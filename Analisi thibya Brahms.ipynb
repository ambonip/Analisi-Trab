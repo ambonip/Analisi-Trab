{
 "cells": [
  {
   "cell_type": "markdown",
   "metadata": {},
   "source": [
    "<h2>Analisi comparativa dei metodi di dosaggio degli anticorpi anti recettore del TSH</h2>\n",
    "<h3>Metodo Routine:<h3>\n",
    "<ul>\n",
    "<li>Brahms Trak Human con metodica LIA </li>\n",
    "<li><small>Metodo Siemens XPi TSI Assay chemiluminescenza Immulite 2000</small></li>\n",
    "</ul>\n",
    "<h3>Metodo di comparazione Thermophisher: anti TSH-R Elia su Immunocap 250</h3>"
   ]
  },
  {
   "cell_type": "markdown",
   "metadata": {},
   "source": [
    "Analisi dei dati effettuata con la suite CONTINUUM ANALITICS https://www.continuum.io/\n",
    "\n",
    "basata sui seguenti moduli python:\n",
    "<ul>\n",
    "<li>Pandas: per la gestione dei dati e le analisi di base </li>\n",
    "<li> Matplotlib: per i grafici di base</li>\n",
    "<li>Seaborn per grafici avanzati</li>\n",
    "<li>Statmodels e scipy per le analisi avanzate</li>\n",
    "</ul>\n",
    "\n",
    "** tutti i software utilizzati sono open source**"
   ]
  },
  {
   "cell_type": "code",
   "execution_count": 41,
   "metadata": {
    "collapsed": true
   },
   "outputs": [],
   "source": [
    "%matplotlib inline\n",
    "#importo le librerie\n",
    "import pandas as pd\n",
    "import os\n",
    "from __future__ import print_function,division\n",
    "import numpy as np\n",
    "import seaborn as sns\n",
    "os.environ[\"NLS_LANG\"] = \"ITALIAN_ITALY.UTF8\""
   ]
  },
  {
   "cell_type": "markdown",
   "metadata": {},
   "source": [
    "<h4>Importazione del file con i dati </h4>"
   ]
  },
  {
   "cell_type": "code",
   "execution_count": 42,
   "metadata": {
    "collapsed": false
   },
   "outputs": [
    {
     "data": {
      "text/html": [
       "<div>\n",
       "<table border=\"1\" class=\"dataframe\">\n",
       "  <thead>\n",
       "    <tr style=\"text-align: right;\">\n",
       "      <th></th>\n",
       "      <th>campione</th>\n",
       "      <th>valore_cap</th>\n",
       "      <th>valore_rut</th>\n",
       "    </tr>\n",
       "  </thead>\n",
       "  <tbody>\n",
       "    <tr>\n",
       "      <th>68</th>\n",
       "      <td>9430601678</td>\n",
       "      <td>2.30</td>\n",
       "      <td>0.1</td>\n",
       "    </tr>\n",
       "    <tr>\n",
       "      <th>69</th>\n",
       "      <td>9430600613</td>\n",
       "      <td>13.82</td>\n",
       "      <td>14.2</td>\n",
       "    </tr>\n",
       "    <tr>\n",
       "      <th>70</th>\n",
       "      <td>9430601997</td>\n",
       "      <td>2.52</td>\n",
       "      <td>0.1</td>\n",
       "    </tr>\n",
       "    <tr>\n",
       "      <th>71</th>\n",
       "      <td>9430600787</td>\n",
       "      <td>2.34</td>\n",
       "      <td>0.6</td>\n",
       "    </tr>\n",
       "    <tr>\n",
       "      <th>72</th>\n",
       "      <td>9430601111</td>\n",
       "      <td>2.54</td>\n",
       "      <td>0.8</td>\n",
       "    </tr>\n",
       "    <tr>\n",
       "      <th>73</th>\n",
       "      <td>9430601066</td>\n",
       "      <td>3.07</td>\n",
       "      <td>1.2</td>\n",
       "    </tr>\n",
       "  </tbody>\n",
       "</table>\n",
       "</div>"
      ],
      "text/plain": [
       "      campione  valore_cap  valore_rut\n",
       "68  9430601678        2.30         0.1\n",
       "69  9430600613       13.82        14.2\n",
       "70  9430601997        2.52         0.1\n",
       "71  9430600787        2.34         0.6\n",
       "72  9430601111        2.54         0.8\n",
       "73  9430601066        3.07         1.2"
      ]
     },
     "execution_count": 42,
     "metadata": {},
     "output_type": "execute_result"
    }
   ],
   "source": [
    "#importo il file con i dati\n",
    "path=r\"D:\\d\\05 Lavscien\\autoimmunita\\corr_thibya\\compar_thibya_brahms.csv\"\n",
    "database=pd.read_csv(path,sep=';',usecols=[1, 2, 3,4,5])#colonne da utilizzare\n",
    "database['valore_cap']=database['valore_cap'].apply(lambda x: round(x,2))\n",
    "database.drop(['codificato','accettazione'],axis=1,inplace=True)\n",
    "database.tail(6)\n"
   ]
  },
  {
   "cell_type": "markdown",
   "metadata": {},
   "source": [
    "Varibili d'ambiete in comune"
   ]
  },
  {
   "cell_type": "code",
   "execution_count": 43,
   "metadata": {
    "collapsed": true
   },
   "outputs": [],
   "source": [
    "#variabili d'ambiente comuni\n",
    "cutoff_cap=2.9 #tre 2.9 r 3.3 dubbi\n",
    "#cutoff_cap=3.3\n",
    "cutoff_rout=1 #brahms 1-1.5 dubbi\n",
    "METODO_ROUTINE=\"Brahms Trak Human LIA\"\n",
    "#METODO_ROUTINE=\"Siemens Immulite 2000 Chemil.\"\n",
    "CAP=\"Thermo Fisher ELIA anti-TSH-R Cap250 \""
   ]
  },
  {
   "cell_type": "markdown",
   "metadata": {},
   "source": [
    "<h3>Aggiungo due colonne con pos neg in base al cut-off</h3>"
   ]
  },
  {
   "cell_type": "code",
   "execution_count": 44,
   "metadata": {
    "collapsed": false
   },
   "outputs": [
    {
     "data": {
      "text/html": [
       "<div>\n",
       "<table border=\"1\" class=\"dataframe\">\n",
       "  <thead>\n",
       "    <tr style=\"text-align: right;\">\n",
       "      <th></th>\n",
       "      <th>campione</th>\n",
       "      <th>valore_cap</th>\n",
       "      <th>valore_rut</th>\n",
       "      <th>cap_PN</th>\n",
       "      <th>rut_PN</th>\n",
       "    </tr>\n",
       "  </thead>\n",
       "  <tbody>\n",
       "    <tr>\n",
       "      <th>0</th>\n",
       "      <td>9430598753</td>\n",
       "      <td>1.77</td>\n",
       "      <td>0.4</td>\n",
       "      <td>Neg</td>\n",
       "      <td>Neg</td>\n",
       "    </tr>\n",
       "    <tr>\n",
       "      <th>1</th>\n",
       "      <td>9430598217</td>\n",
       "      <td>2.46</td>\n",
       "      <td>0.3</td>\n",
       "      <td>Neg</td>\n",
       "      <td>Neg</td>\n",
       "    </tr>\n",
       "    <tr>\n",
       "      <th>2</th>\n",
       "      <td>9430598216</td>\n",
       "      <td>2.26</td>\n",
       "      <td>0.8</td>\n",
       "      <td>Neg</td>\n",
       "      <td>Neg</td>\n",
       "    </tr>\n",
       "    <tr>\n",
       "      <th>3</th>\n",
       "      <td>9430598758</td>\n",
       "      <td>2.57</td>\n",
       "      <td>2.2</td>\n",
       "      <td>Neg</td>\n",
       "      <td>Pos</td>\n",
       "    </tr>\n",
       "    <tr>\n",
       "      <th>4</th>\n",
       "      <td>9430598331</td>\n",
       "      <td>2.29</td>\n",
       "      <td>0.4</td>\n",
       "      <td>Neg</td>\n",
       "      <td>Neg</td>\n",
       "    </tr>\n",
       "  </tbody>\n",
       "</table>\n",
       "</div>"
      ],
      "text/plain": [
       "     campione  valore_cap  valore_rut cap_PN rut_PN\n",
       "0  9430598753        1.77         0.4    Neg    Neg\n",
       "1  9430598217        2.46         0.3    Neg    Neg\n",
       "2  9430598216        2.26         0.8    Neg    Neg\n",
       "3  9430598758        2.57         2.2    Neg    Pos\n",
       "4  9430598331        2.29         0.4    Neg    Neg"
      ]
     },
     "execution_count": 44,
     "metadata": {},
     "output_type": "execute_result"
    }
   ],
   "source": [
    "\n",
    "\n",
    "database['cap_PN']=(database['valore_cap']>=cutoff_cap)\n",
    "database['rut_PN']=(database['valore_rut']>=cutoff_rout)\n",
    "database['cap_PN'].replace([True,False],['Pos','Neg'],inplace=True)\n",
    "database['rut_PN'].replace([True,False],['Pos','Neg'],inplace=True)\n",
    "database.head()"
   ]
  },
  {
   "cell_type": "code",
   "execution_count": 45,
   "metadata": {
    "collapsed": false
   },
   "outputs": [
    {
     "data": {
      "text/html": [
       "<div>\n",
       "<table border=\"1\" class=\"dataframe\">\n",
       "  <thead>\n",
       "    <tr style=\"text-align: right;\">\n",
       "      <th></th>\n",
       "      <th>campione</th>\n",
       "      <th>valore_cap</th>\n",
       "      <th>valore_rut</th>\n",
       "    </tr>\n",
       "  </thead>\n",
       "  <tbody>\n",
       "    <tr>\n",
       "      <th>count</th>\n",
       "      <td>7.400000e+01</td>\n",
       "      <td>74.000000</td>\n",
       "      <td>74.000000</td>\n",
       "    </tr>\n",
       "    <tr>\n",
       "      <th>mean</th>\n",
       "      <td>9.430545e+09</td>\n",
       "      <td>5.334189</td>\n",
       "      <td>3.548378</td>\n",
       "    </tr>\n",
       "    <tr>\n",
       "      <th>std</th>\n",
       "      <td>1.595923e+05</td>\n",
       "      <td>8.101052</td>\n",
       "      <td>8.094432</td>\n",
       "    </tr>\n",
       "    <tr>\n",
       "      <th>min</th>\n",
       "      <td>9.430089e+09</td>\n",
       "      <td>1.770000</td>\n",
       "      <td>0.100000</td>\n",
       "    </tr>\n",
       "    <tr>\n",
       "      <th>25%</th>\n",
       "      <td>9.430599e+09</td>\n",
       "      <td>2.492500</td>\n",
       "      <td>0.400000</td>\n",
       "    </tr>\n",
       "    <tr>\n",
       "      <th>50%</th>\n",
       "      <td>9.430600e+09</td>\n",
       "      <td>2.905000</td>\n",
       "      <td>0.600000</td>\n",
       "    </tr>\n",
       "    <tr>\n",
       "      <th>75%</th>\n",
       "      <td>9.430601e+09</td>\n",
       "      <td>3.610000</td>\n",
       "      <td>1.400000</td>\n",
       "    </tr>\n",
       "    <tr>\n",
       "      <th>max</th>\n",
       "      <td>9.430602e+09</td>\n",
       "      <td>58.450000</td>\n",
       "      <td>40.000000</td>\n",
       "    </tr>\n",
       "  </tbody>\n",
       "</table>\n",
       "</div>"
      ],
      "text/plain": [
       "           campione  valore_cap  valore_rut\n",
       "count  7.400000e+01   74.000000   74.000000\n",
       "mean   9.430545e+09    5.334189    3.548378\n",
       "std    1.595923e+05    8.101052    8.094432\n",
       "min    9.430089e+09    1.770000    0.100000\n",
       "25%    9.430599e+09    2.492500    0.400000\n",
       "50%    9.430600e+09    2.905000    0.600000\n",
       "75%    9.430601e+09    3.610000    1.400000\n",
       "max    9.430602e+09   58.450000   40.000000"
      ]
     },
     "execution_count": 45,
     "metadata": {},
     "output_type": "execute_result"
    }
   ],
   "source": [
    "database.describe()"
   ]
  },
  {
   "cell_type": "markdown",
   "metadata": {},
   "source": [
    "<h4>Calcolo la tabella delle frequenze</h4>\n",
    "<font color='red'> **modulo utilizzato scipy.stat** </font>  http://docs.scipy.org/doc/scipy/reference/stats.html"
   ]
  },
  {
   "cell_type": "code",
   "execution_count": 46,
   "metadata": {
    "collapsed": false
   },
   "outputs": [
    {
     "data": {
      "text/html": [
       "<div>\n",
       "<table border=\"1\" class=\"dataframe\">\n",
       "  <thead>\n",
       "    <tr style=\"text-align: right;\">\n",
       "      <th>rut_PN</th>\n",
       "      <th>Neg</th>\n",
       "      <th>Pos</th>\n",
       "    </tr>\n",
       "    <tr>\n",
       "      <th>cap_PN</th>\n",
       "      <th></th>\n",
       "      <th></th>\n",
       "    </tr>\n",
       "  </thead>\n",
       "  <tbody>\n",
       "    <tr>\n",
       "      <th>Neg</th>\n",
       "      <td>32</td>\n",
       "      <td>5</td>\n",
       "    </tr>\n",
       "    <tr>\n",
       "      <th>Pos</th>\n",
       "      <td>18</td>\n",
       "      <td>19</td>\n",
       "    </tr>\n",
       "  </tbody>\n",
       "</table>\n",
       "</div>"
      ],
      "text/plain": [
       "rut_PN  Neg  Pos\n",
       "cap_PN          \n",
       "Neg      32    5\n",
       "Pos      18   19"
      ]
     },
     "execution_count": 46,
     "metadata": {},
     "output_type": "execute_result"
    }
   ],
   "source": [
    "#sci.py moduli\n",
    "from scipy.stats import chi2_contingency, fisher_exact\n",
    "pd.crosstab(database.cap_PN,database.rut_PN)"
   ]
  },
  {
   "cell_type": "code",
   "execution_count": 47,
   "metadata": {
    "collapsed": false
   },
   "outputs": [
    {
     "data": {
      "text/plain": [
       "<matplotlib.text.Text at 0x1292f0b0>"
      ]
     },
     "execution_count": 47,
     "metadata": {},
     "output_type": "execute_result"
    },
    {
     "data": {
      "image/png": "[encoded data removed]",
      "text/plain": [
       "<matplotlib.figure.Figure at 0x1292f770>"
      ]
     },
     "metadata": {},
     "output_type": "display_data"
    }
   ],
   "source": [
    "ax=pd.crosstab(database.cap_PN,database.rut_PN).plot(kind='bar',stacked=True, )\n",
    "ax.legend(['Neg','Pos'])\n",
    "ax.set_xlabel(CAP)"
   ]
  },
  {
   "cell_type": "markdown",
   "metadata": {},
   "source": [
    "<h4> Test chi quadrato</h4>"
   ]
  },
  {
   "cell_type": "code",
   "execution_count": 48,
   "metadata": {
    "collapsed": false
   },
   "outputs": [
    {
     "name": "stdout",
     "output_type": "stream",
     "text": [
      "valore di p:0.00124545445958\n"
     ]
    }
   ],
   "source": [
    "# test chi square\n",
    "chi2, pvalue, dof, ex = chi2_contingency(pd.crosstab(database.cap_PN,database.rut_PN))\n",
    "print ('valore di p:{}'.format(pvalue))"
   ]
  },
  {
   "cell_type": "markdown",
   "metadata": {},
   "source": [
    "<h4> Test esatto di Fisher</h4>"
   ]
  },
  {
   "cell_type": "code",
   "execution_count": 49,
   "metadata": {
    "collapsed": false
   },
   "outputs": [
    {
     "name": "stdout",
     "output_type": "stream",
     "text": [
      "valore di p:0.00101091533838\n"
     ]
    }
   ],
   "source": [
    "# test esatto di Fisher\n",
    "oddsratio, pvalue =fisher_exact(pd.crosstab(database.cap_PN,database.rut_PN))\n",
    "print ('valore di p:{}'.format(pvalue))"
   ]
  },
  {
   "cell_type": "markdown",
   "metadata": {},
   "source": [
    "<h3>test corretto per questo caso è il test di McNemar:</h3>\n",
    "**test non parametrico dati appaiati risposte nominali binarie**\n",
    "<h4> Test esatto McNemar (per la dipendenza delle variabili)</h4>\n",
    "<font color='red'> **modulo utilizzato statsmodels** </font>  http://statsmodels.sourceforge.net/stable/index.html"
   ]
  },
  {
   "cell_type": "code",
   "execution_count": 50,
   "metadata": {
    "collapsed": false
   },
   "outputs": [
    {
     "name": "stdout",
     "output_type": "stream",
     "text": [
      "valore di p:0.0106220245361\n"
     ]
    }
   ],
   "source": [
    "from statsmodels.sandbox.stats.runs import mcnemar\n",
    "stat,p=mcnemar(pd.crosstab(database.cap_PN,database.rut_PN))\n",
    "print(\"valore di p:{}\".format(p))"
   ]
  },
  {
   "cell_type": "markdown",
   "metadata": {},
   "source": [
    "-"
   ]
  },
  {
   "cell_type": "markdown",
   "metadata": {},
   "source": [
    "<h2> Analisi della regressione</h2>"
   ]
  },
  {
   "cell_type": "code",
   "execution_count": 51,
   "metadata": {
    "collapsed": false
   },
   "outputs": [
    {
     "data": {
      "image/png": "[encoded data removed]",
      "text/plain": [
       "<matplotlib.figure.Figure at 0x124c4b90>"
      ]
     },
     "metadata": {},
     "output_type": "display_data"
    }
   ],
   "source": [
    "# grafico di dispersione \n",
    "import matplotlib.pyplot as plt\n",
    "fig = plt.figure()\n",
    "fig.suptitle('Scatterplot', fontsize=14, fontweight='bold')\n",
    "ax = fig.add_subplot(111)\n",
    "ax.set_xlabel(METODO_ROUTINE)\n",
    "ax.set_ylabel(CAP)\n",
    "ax.plot(database.valore_rut,database.valore_cap,'o')\n",
    "plt.show()"
   ]
  },
  {
   "cell_type": "markdown",
   "metadata": {
    "collapsed": false
   },
   "source": [
    "** eseguiamo ora lo studio di regressione con tre modelli diversi**\n",
    "\n",
    "<font color='red'>Moduli statmodels e scipy </font>"
   ]
  },
  {
   "cell_type": "code",
   "execution_count": 52,
   "metadata": {
    "collapsed": false
   },
   "outputs": [
    {
     "data": {
      "text/html": [
       "<table class=\"simpletable\">\n",
       "<caption>OLS Regression Results</caption>\n",
       "<tr>\n",
       "  <th>Dep. Variable:</th>       <td>valore_cap</td>    <th>  R-squared:         </th> <td>   0.844</td>\n",
       "</tr>\n",
       "<tr>\n",
       "  <th>Model:</th>                   <td>OLS</td>       <th>  Adj. R-squared:    </th> <td>   0.842</td>\n",
       "</tr>\n",
       "<tr>\n",
       "  <th>Method:</th>             <td>Least Squares</td>  <th>  F-statistic:       </th> <td>   390.4</td>\n",
       "</tr>\n",
       "<tr>\n",
       "  <th>Date:</th>             <td>Fri, 30 Sep 2016</td> <th>  Prob (F-statistic):</th> <td>8.50e-31</td>\n",
       "</tr>\n",
       "<tr>\n",
       "  <th>Time:</th>                 <td>12:21:53</td>     <th>  Log-Likelihood:    </th> <td> -190.49</td>\n",
       "</tr>\n",
       "<tr>\n",
       "  <th>No. Observations:</th>      <td>    74</td>      <th>  AIC:               </th> <td>   385.0</td>\n",
       "</tr>\n",
       "<tr>\n",
       "  <th>Df Residuals:</th>          <td>    72</td>      <th>  BIC:               </th> <td>   389.6</td>\n",
       "</tr>\n",
       "<tr>\n",
       "  <th>Df Model:</th>              <td>     1</td>      <th>                     </th>     <td> </td>   \n",
       "</tr>\n",
       "<tr>\n",
       "  <th>Covariance Type:</th>      <td>nonrobust</td>    <th>                     </th>     <td> </td>   \n",
       "</tr>\n",
       "</table>\n",
       "<table class=\"simpletable\">\n",
       "<tr>\n",
       "       <td></td>         <th>coef</th>     <th>std err</th>      <th>t</th>      <th>P>|t|</th>  <th>[0.025</th>    <th>0.975]</th>  \n",
       "</tr>\n",
       "<tr>\n",
       "  <th>const</th>      <td>    2.0711</td> <td>    0.409</td> <td>    5.064</td> <td> 0.000</td> <td>    1.256</td> <td>    2.886</td>\n",
       "</tr>\n",
       "<tr>\n",
       "  <th>valore_rut</th> <td>    0.9196</td> <td>    0.047</td> <td>   19.760</td> <td> 0.000</td> <td>    0.827</td> <td>    1.012</td>\n",
       "</tr>\n",
       "</table>\n",
       "<table class=\"simpletable\">\n",
       "<tr>\n",
       "  <th>Omnibus:</th>       <td>67.461</td> <th>  Durbin-Watson:     </th> <td>   1.908</td> \n",
       "</tr>\n",
       "<tr>\n",
       "  <th>Prob(Omnibus):</th> <td> 0.000</td> <th>  Jarque-Bera (JB):  </th> <td>1368.471</td> \n",
       "</tr>\n",
       "<tr>\n",
       "  <th>Skew:</th>          <td> 2.121</td> <th>  Prob(JB):          </th> <td>6.92e-298</td>\n",
       "</tr>\n",
       "<tr>\n",
       "  <th>Kurtosis:</th>      <td>23.636</td> <th>  Cond. No.          </th> <td>    9.63</td> \n",
       "</tr>\n",
       "</table>"
      ],
      "text/plain": [
       "<class 'statsmodels.iolib.summary.Summary'>\n",
       "\"\"\"\n",
       "                            OLS Regression Results                            \n",
       "==============================================================================\n",
       "Dep. Variable:             valore_cap   R-squared:                       0.844\n",
       "Model:                            OLS   Adj. R-squared:                  0.842\n",
       "Method:                 Least Squares   F-statistic:                     390.4\n",
       "Date:                Fri, 30 Sep 2016   Prob (F-statistic):           8.50e-31\n",
       "Time:                        12:21:53   Log-Likelihood:                -190.49\n",
       "No. Observations:                  74   AIC:                             385.0\n",
       "Df Residuals:                      72   BIC:                             389.6\n",
       "Df Model:                           1                                         \n",
       "Covariance Type:            nonrobust                                         \n",
       "==============================================================================\n",
       "                 coef    std err          t      P>|t|      [0.025      0.975]\n",
       "------------------------------------------------------------------------------\n",
       "const          2.0711      0.409      5.064      0.000       1.256       2.886\n",
       "valore_rut     0.9196      0.047     19.760      0.000       0.827       1.012\n",
       "==============================================================================\n",
       "Omnibus:                       67.461   Durbin-Watson:                   1.908\n",
       "Prob(Omnibus):                  0.000   Jarque-Bera (JB):             1368.471\n",
       "Skew:                           2.121   Prob(JB):                    6.92e-298\n",
       "Kurtosis:                      23.636   Cond. No.                         9.63\n",
       "==============================================================================\n",
       "\n",
       "Warnings:\n",
       "[1] Standard Errors assume that the covariance matrix of the errors is correctly specified.\n",
       "\"\"\""
      ]
     },
     "execution_count": 52,
     "metadata": {},
     "output_type": "execute_result"
    }
   ],
   "source": [
    "# con statmodel : regressione minimi quadrati\n",
    "##res_ols = sm.OLS(y, statsmodels.tools.add_constant(X)).fit() per vecchia versione\n",
    "import statsmodels.api as sm\n",
    "#sm.OLS(Y,X)\n",
    "X = sm.add_constant(database.valore_rut )\n",
    "modello_minquad=sm.OLS(database.valore_cap,X)\n",
    "regressione_minquad=modello_minquad.fit()\n",
    "regressione_minquad.summary()"
   ]
  },
  {
   "cell_type": "code",
   "execution_count": 53,
   "metadata": {
    "collapsed": false
   },
   "outputs": [
    {
     "data": {
      "text/html": [
       "<table class=\"simpletable\">\n",
       "<caption>Robust linear Model Regression Results</caption>\n",
       "<tr>\n",
       "  <th>Dep. Variable:</th>     <td>valore_cap</td>    <th>  No. Observations:  </th> <td>    74</td>\n",
       "</tr>\n",
       "<tr>\n",
       "  <th>Model:</th>                 <td>RLM</td>       <th>  Df Residuals:      </th> <td>    72</td>\n",
       "</tr>\n",
       "<tr>\n",
       "  <th>Method:</th>               <td>IRLS</td>       <th>  Df Model:          </th> <td>     1</td>\n",
       "</tr>\n",
       "<tr>\n",
       "  <th>Norm:</th>                <td>HuberT</td>      <th>                     </th>    <td> </td>  \n",
       "</tr>\n",
       "<tr>\n",
       "  <th>Scale Est.:</th>            <td>mad</td>       <th>                     </th>    <td> </td>  \n",
       "</tr>\n",
       "<tr>\n",
       "  <th>Cov Type:</th>              <td>H1</td>        <th>                     </th>    <td> </td>  \n",
       "</tr>\n",
       "<tr>\n",
       "  <th>Date:</th>           <td>Fri, 30 Sep 2016</td> <th>                     </th>    <td> </td>  \n",
       "</tr>\n",
       "<tr>\n",
       "  <th>Time:</th>               <td>12:21:53</td>     <th>                     </th>    <td> </td>  \n",
       "</tr>\n",
       "<tr>\n",
       "  <th>No. Iterations:</th>        <td>50</td>        <th>                     </th>    <td> </td>  \n",
       "</tr>\n",
       "</table>\n",
       "<table class=\"simpletable\">\n",
       "<tr>\n",
       "       <td></td>         <th>coef</th>     <th>std err</th>      <th>z</th>      <th>P>|z|</th>  <th>[0.025</th>    <th>0.975]</th>  \n",
       "</tr>\n",
       "<tr>\n",
       "  <th>const</th>      <td>    2.3419</td> <td>    0.103</td> <td>   22.720</td> <td> 0.000</td> <td>    2.140</td> <td>    2.544</td>\n",
       "</tr>\n",
       "<tr>\n",
       "  <th>valore_rut</th> <td>    0.6943</td> <td>    0.012</td> <td>   59.191</td> <td> 0.000</td> <td>    0.671</td> <td>    0.717</td>\n",
       "</tr>\n",
       "</table>"
      ],
      "text/plain": [
       "<class 'statsmodels.iolib.summary.Summary'>\n",
       "\"\"\"\n",
       "                    Robust linear Model Regression Results                    \n",
       "==============================================================================\n",
       "Dep. Variable:             valore_cap   No. Observations:                   74\n",
       "Model:                            RLM   Df Residuals:                       72\n",
       "Method:                          IRLS   Df Model:                            1\n",
       "Norm:                          HuberT                                         \n",
       "Scale Est.:                       mad                                         \n",
       "Cov Type:                          H1                                         \n",
       "Date:                Fri, 30 Sep 2016                                         \n",
       "Time:                        12:21:53                                         \n",
       "No. Iterations:                    50                                         \n",
       "==============================================================================\n",
       "                 coef    std err          z      P>|z|      [0.025      0.975]\n",
       "------------------------------------------------------------------------------\n",
       "const          2.3419      0.103     22.720      0.000       2.140       2.544\n",
       "valore_rut     0.6943      0.012     59.191      0.000       0.671       0.717\n",
       "==============================================================================\n",
       "\n",
       "If the model instance has been used for another fit with different fit\n",
       "parameters, then the fit options might not be the correct ones anymore .\n",
       "\"\"\""
      ]
     },
     "execution_count": 53,
     "metadata": {},
     "output_type": "execute_result"
    }
   ],
   "source": [
    "# con statmodel : regressione robusta (Robust Linear Model)\n",
    "X = sm.add_constant(database.valore_rut)\n",
    "modello=sm.RLM(database.valore_cap,X)\n",
    "regressione_robusta=modello.fit()\n",
    "regressione_robusta.summary()\n"
   ]
  },
  {
   "cell_type": "code",
   "execution_count": 54,
   "metadata": {
    "collapsed": false
   },
   "outputs": [
    {
     "data": {
      "text/plain": [
       "[(0, 50.0)]"
      ]
     },
     "execution_count": 54,
     "metadata": {},
     "output_type": "execute_result"
    },
    {
     "data": {
      "image/png": "[encoded data removed]",
      "text/plain": [
       "<matplotlib.figure.Figure at 0x13b4f570>"
      ]
     },
     "metadata": {},
     "output_type": "display_data"
    }
   ],
   "source": [
    "#importo la librearia seborn per una migliore visualizzazione grafica\n",
    "\n",
    "sns.set(color_codes=True)\n",
    "ax = sns.regplot(x=database.valore_rut,y=database.valore_cap,  color=\"g\",robust=True)\n",
    "ax = sns.regplot(x=database.valore_rut,y=database.valore_cap,  color=\"b\")\n",
    "ax.set_title('Regressione lineare  OLS + RLM ')\n",
    "ax.set_xlabel(METODO_ROUTINE)\n",
    "ax.set_ylabel(CAP)\n",
    "ax.set(ylim=(0, None))\n",
    "ax.set(xlim=(0, None))"
   ]
  },
  {
   "cell_type": "code",
   "execution_count": 55,
   "metadata": {
    "collapsed": false
   },
   "outputs": [
    {
     "data": {
      "text/plain": [
       "[(0, 8)]"
      ]
     },
     "execution_count": 55,
     "metadata": {},
     "output_type": "execute_result"
    },
    {
     "data": {
      "image/png": "[encoded data removed]",
      "text/plain": [
       "<matplotlib.figure.Figure at 0x13b6a170>"
      ]
     },
     "metadata": {},
     "output_type": "display_data"
    }
   ],
   "source": [
    "sns.set(color_codes=True)\n",
    "ax2 = sns.regplot(x=database.valore_rut,y=database.valore_cap,  color=\"g\",robust=True)\n",
    "ax2 = sns.regplot(x=database.valore_rut,y=database.valore_cap,  color=\"b\")\n",
    "ax2.set_title('Regressione lineare  OLS + RLM ')\n",
    "ax2.set_xlabel(METODO_ROUTINE)\n",
    "ax2.set_ylabel(CAP)\n",
    "ax2.set(ylim=(0, 20))\n",
    "ax2.set(xlim=(0, 8))"
   ]
  },
  {
   "cell_type": "code",
   "execution_count": 56,
   "metadata": {
    "collapsed": false
   },
   "outputs": [
    {
     "data": {
      "text/plain": [
       "<seaborn.axisgrid.JointGrid at 0x13b75030>"
      ]
     },
     "execution_count": 56,
     "metadata": {},
     "output_type": "execute_result"
    },
    {
     "data": {
      "image/png": "[encoded data removed]",
      "text/plain": [
       "<matplotlib.figure.Figure at 0x85cf910>"
      ]
     },
     "metadata": {},
     "output_type": "display_data"
    }
   ],
   "source": [
    "ax=sns.jointplot(x=database.valore_rut,y=database.valore_cap, kind=\"reg\");\n",
    "ax.set_axis_labels(METODO_ROUTINE,CAP)"
   ]
  },
  {
   "cell_type": "markdown",
   "metadata": {
    "collapsed": false
   },
   "source": [
    "** Ortogonal Distance Regression (Deming Regression)**"
   ]
  },
  {
   "cell_type": "code",
   "execution_count": 57,
   "metadata": {
    "collapsed": false
   },
   "outputs": [
    {
     "name": "stdout",
     "output_type": "stream",
     "text": [
      "Beta: [ 1.00088365  1.78267543]\n",
      "Beta Std Error: [ 0.04851125  0.41899546]\n",
      "Beta Covariance: [[ 0.00043625 -0.00154797]\n",
      " [-0.00154797  0.03254372]]\n",
      "Residual Variance: 5.39450361153\n",
      "Inverse Condition #: 0.109803542662\n",
      "Reason(s) for Halting:\n",
      "  Sum of squares convergence\n"
     ]
    }
   ],
   "source": [
    "# regressione ODR  (ortogonal distance regression Deming)\n",
    "import scipy.odr as odr\n",
    "#modello di fitting\n",
    "def funzione(B,x):\n",
    "    return B[0]*x+B[1]\n",
    "linear= odr.Model(funzione)\n",
    "variabili=odr.Data(database.valore_rut,database.valore_cap)\n",
    "regressione_ortogonale=odr.ODR(variabili,linear,beta0=[1., 2.])\n",
    "output=regressione_ortogonale.run()\n",
    "#print (odr.Model)\n",
    "output.pprint()"
   ]
  },
  {
   "cell_type": "code",
   "execution_count": 58,
   "metadata": {
    "collapsed": false
   },
   "outputs": [
    {
     "name": "stdout",
     "output_type": "stream",
     "text": [
      "coefficente angolare: 1.00088364976, Intercetta: 1.78267543073\n"
     ]
    }
   ],
   "source": [
    "print(\"coefficente angolare: {ang}, Intercetta: {int}\".format(ang=output.beta[0],int=output.beta[1]))"
   ]
  },
  {
   "cell_type": "markdown",
   "metadata": {},
   "source": [
    "<h4>Bias</h4>"
   ]
  },
  {
   "cell_type": "code",
   "execution_count": 59,
   "metadata": {
    "collapsed": false
   },
   "outputs": [
    {
     "data": {
      "text/html": [
       "<div>\n",
       "<table border=\"1\" class=\"dataframe\">\n",
       "  <thead>\n",
       "    <tr style=\"text-align: right;\">\n",
       "      <th></th>\n",
       "      <th>campione</th>\n",
       "      <th>valore_cap</th>\n",
       "      <th>valore_rut</th>\n",
       "      <th>cap_PN</th>\n",
       "      <th>rut_PN</th>\n",
       "      <th>bias</th>\n",
       "    </tr>\n",
       "  </thead>\n",
       "  <tbody>\n",
       "    <tr>\n",
       "      <th>0</th>\n",
       "      <td>9430598753</td>\n",
       "      <td>1.77</td>\n",
       "      <td>0.4</td>\n",
       "      <td>Neg</td>\n",
       "      <td>Neg</td>\n",
       "      <td>-1.37</td>\n",
       "    </tr>\n",
       "    <tr>\n",
       "      <th>1</th>\n",
       "      <td>9430598217</td>\n",
       "      <td>2.46</td>\n",
       "      <td>0.3</td>\n",
       "      <td>Neg</td>\n",
       "      <td>Neg</td>\n",
       "      <td>-2.16</td>\n",
       "    </tr>\n",
       "    <tr>\n",
       "      <th>2</th>\n",
       "      <td>9430598216</td>\n",
       "      <td>2.26</td>\n",
       "      <td>0.8</td>\n",
       "      <td>Neg</td>\n",
       "      <td>Neg</td>\n",
       "      <td>-1.46</td>\n",
       "    </tr>\n",
       "    <tr>\n",
       "      <th>3</th>\n",
       "      <td>9430598758</td>\n",
       "      <td>2.57</td>\n",
       "      <td>2.2</td>\n",
       "      <td>Neg</td>\n",
       "      <td>Pos</td>\n",
       "      <td>-0.37</td>\n",
       "    </tr>\n",
       "    <tr>\n",
       "      <th>4</th>\n",
       "      <td>9430598331</td>\n",
       "      <td>2.29</td>\n",
       "      <td>0.4</td>\n",
       "      <td>Neg</td>\n",
       "      <td>Neg</td>\n",
       "      <td>-1.89</td>\n",
       "    </tr>\n",
       "  </tbody>\n",
       "</table>\n",
       "</div>"
      ],
      "text/plain": [
       "     campione  valore_cap  valore_rut cap_PN rut_PN  bias\n",
       "0  9430598753        1.77         0.4    Neg    Neg -1.37\n",
       "1  9430598217        2.46         0.3    Neg    Neg -2.16\n",
       "2  9430598216        2.26         0.8    Neg    Neg -1.46\n",
       "3  9430598758        2.57         2.2    Neg    Pos -0.37\n",
       "4  9430598331        2.29         0.4    Neg    Neg -1.89"
      ]
     },
     "execution_count": 59,
     "metadata": {},
     "output_type": "execute_result"
    }
   ],
   "source": [
    "database_b=database\n",
    "database_b['bias']=database['valore_rut']-database['valore_cap']\n",
    "database_b.head(5)"
   ]
  },
  {
   "cell_type": "code",
   "execution_count": 60,
   "metadata": {
    "collapsed": false
   },
   "outputs": [
    {
     "data": {
      "text/plain": [
       "<matplotlib.axes._subplots.AxesSubplot at 0x124f7cf0>"
      ]
     },
     "execution_count": 60,
     "metadata": {},
     "output_type": "execute_result"
    },
    {
     "data": {
      "image/png": "[encoded data removed]",
      "text/plain": [
       "<matplotlib.figure.Figure at 0x86f6bd0>"
      ]
     },
     "metadata": {},
     "output_type": "display_data"
    }
   ],
   "source": [
    "sns.distplot(database_b.bias)"
   ]
  },
  {
   "cell_type": "code",
   "execution_count": 61,
   "metadata": {
    "collapsed": false
   },
   "outputs": [
    {
     "data": {
      "text/html": [
       "<div>\n",
       "<table border=\"1\" class=\"dataframe\">\n",
       "  <thead>\n",
       "    <tr style=\"text-align: right;\">\n",
       "      <th></th>\n",
       "      <th>campione</th>\n",
       "      <th>valore_cap</th>\n",
       "      <th>valore_rut</th>\n",
       "      <th>bias</th>\n",
       "    </tr>\n",
       "  </thead>\n",
       "  <tbody>\n",
       "    <tr>\n",
       "      <th>count</th>\n",
       "      <td>7.400000e+01</td>\n",
       "      <td>74.000000</td>\n",
       "      <td>74.000000</td>\n",
       "      <td>74.000000</td>\n",
       "    </tr>\n",
       "    <tr>\n",
       "      <th>mean</th>\n",
       "      <td>9.430545e+09</td>\n",
       "      <td>5.334189</td>\n",
       "      <td>3.548378</td>\n",
       "      <td>-1.785811</td>\n",
       "    </tr>\n",
       "    <tr>\n",
       "      <th>std</th>\n",
       "      <td>1.595923e+05</td>\n",
       "      <td>8.101052</td>\n",
       "      <td>8.094432</td>\n",
       "      <td>3.262094</td>\n",
       "    </tr>\n",
       "    <tr>\n",
       "      <th>min</th>\n",
       "      <td>9.430089e+09</td>\n",
       "      <td>1.770000</td>\n",
       "      <td>0.100000</td>\n",
       "      <td>-18.450000</td>\n",
       "    </tr>\n",
       "    <tr>\n",
       "      <th>25%</th>\n",
       "      <td>9.430599e+09</td>\n",
       "      <td>2.492500</td>\n",
       "      <td>0.400000</td>\n",
       "      <td>-2.635000</td>\n",
       "    </tr>\n",
       "    <tr>\n",
       "      <th>50%</th>\n",
       "      <td>9.430600e+09</td>\n",
       "      <td>2.905000</td>\n",
       "      <td>0.600000</td>\n",
       "      <td>-2.125000</td>\n",
       "    </tr>\n",
       "    <tr>\n",
       "      <th>75%</th>\n",
       "      <td>9.430601e+09</td>\n",
       "      <td>3.610000</td>\n",
       "      <td>1.400000</td>\n",
       "      <td>-1.387500</td>\n",
       "    </tr>\n",
       "    <tr>\n",
       "      <th>max</th>\n",
       "      <td>9.430602e+09</td>\n",
       "      <td>58.450000</td>\n",
       "      <td>40.000000</td>\n",
       "      <td>11.760000</td>\n",
       "    </tr>\n",
       "  </tbody>\n",
       "</table>\n",
       "</div>"
      ],
      "text/plain": [
       "           campione  valore_cap  valore_rut       bias\n",
       "count  7.400000e+01   74.000000   74.000000  74.000000\n",
       "mean   9.430545e+09    5.334189    3.548378  -1.785811\n",
       "std    1.595923e+05    8.101052    8.094432   3.262094\n",
       "min    9.430089e+09    1.770000    0.100000 -18.450000\n",
       "25%    9.430599e+09    2.492500    0.400000  -2.635000\n",
       "50%    9.430600e+09    2.905000    0.600000  -2.125000\n",
       "75%    9.430601e+09    3.610000    1.400000  -1.387500\n",
       "max    9.430602e+09   58.450000   40.000000  11.760000"
      ]
     },
     "execution_count": 61,
     "metadata": {},
     "output_type": "execute_result"
    }
   ],
   "source": [
    "database.describe()"
   ]
  },
  {
   "cell_type": "markdown",
   "metadata": {},
   "source": [
    "Creo colonne con Positivo negativo dubbio in base ai cut off secificati dalle ditte"
   ]
  },
  {
   "cell_type": "code",
   "execution_count": 62,
   "metadata": {
    "collapsed": false
   },
   "outputs": [],
   "source": [
    "def discret_cap(x):\n",
    "    if x<2.9:\n",
    "        return 'N'\n",
    "    elif x>=3.3:\n",
    "        return 'P'\n",
    "    else:\n",
    "        return 'D'\n",
    "\n",
    "def discret_bra(x):\n",
    "    if x<1:\n",
    "        return 'N'\n",
    "    elif x>=1.5:\n",
    "        return 'P'\n",
    "    else:\n",
    "        return 'D'\n",
    "    \n",
    "database['cap_PND']=database['valore_cap'].apply(discret_cap)\n",
    "database['rut_PND']=database['valore_rut'].apply(discret_bra)"
   ]
  },
  {
   "cell_type": "code",
   "execution_count": 63,
   "metadata": {
    "collapsed": false
   },
   "outputs": [
    {
     "data": {
      "text/html": [
       "<div>\n",
       "<table border=\"1\" class=\"dataframe\">\n",
       "  <thead>\n",
       "    <tr style=\"text-align: right;\">\n",
       "      <th></th>\n",
       "      <th>campione</th>\n",
       "      <th>valore_cap</th>\n",
       "      <th>valore_rut</th>\n",
       "      <th>cap_PN</th>\n",
       "      <th>rut_PN</th>\n",
       "      <th>bias</th>\n",
       "      <th>cap_PND</th>\n",
       "      <th>rut_PND</th>\n",
       "    </tr>\n",
       "  </thead>\n",
       "  <tbody>\n",
       "    <tr>\n",
       "      <th>0</th>\n",
       "      <td>9430598753</td>\n",
       "      <td>1.77</td>\n",
       "      <td>0.4</td>\n",
       "      <td>Neg</td>\n",
       "      <td>Neg</td>\n",
       "      <td>-1.37</td>\n",
       "      <td>N</td>\n",
       "      <td>N</td>\n",
       "    </tr>\n",
       "    <tr>\n",
       "      <th>1</th>\n",
       "      <td>9430598217</td>\n",
       "      <td>2.46</td>\n",
       "      <td>0.3</td>\n",
       "      <td>Neg</td>\n",
       "      <td>Neg</td>\n",
       "      <td>-2.16</td>\n",
       "      <td>N</td>\n",
       "      <td>N</td>\n",
       "    </tr>\n",
       "    <tr>\n",
       "      <th>2</th>\n",
       "      <td>9430598216</td>\n",
       "      <td>2.26</td>\n",
       "      <td>0.8</td>\n",
       "      <td>Neg</td>\n",
       "      <td>Neg</td>\n",
       "      <td>-1.46</td>\n",
       "      <td>N</td>\n",
       "      <td>N</td>\n",
       "    </tr>\n",
       "    <tr>\n",
       "      <th>3</th>\n",
       "      <td>9430598758</td>\n",
       "      <td>2.57</td>\n",
       "      <td>2.2</td>\n",
       "      <td>Neg</td>\n",
       "      <td>Pos</td>\n",
       "      <td>-0.37</td>\n",
       "      <td>N</td>\n",
       "      <td>P</td>\n",
       "    </tr>\n",
       "    <tr>\n",
       "      <th>4</th>\n",
       "      <td>9430598331</td>\n",
       "      <td>2.29</td>\n",
       "      <td>0.4</td>\n",
       "      <td>Neg</td>\n",
       "      <td>Neg</td>\n",
       "      <td>-1.89</td>\n",
       "      <td>N</td>\n",
       "      <td>N</td>\n",
       "    </tr>\n",
       "    <tr>\n",
       "      <th>5</th>\n",
       "      <td>9430599124</td>\n",
       "      <td>1.80</td>\n",
       "      <td>0.6</td>\n",
       "      <td>Neg</td>\n",
       "      <td>Neg</td>\n",
       "      <td>-1.20</td>\n",
       "      <td>N</td>\n",
       "      <td>N</td>\n",
       "    </tr>\n",
       "    <tr>\n",
       "      <th>6</th>\n",
       "      <td>9430599592</td>\n",
       "      <td>2.24</td>\n",
       "      <td>0.5</td>\n",
       "      <td>Neg</td>\n",
       "      <td>Neg</td>\n",
       "      <td>-1.74</td>\n",
       "      <td>N</td>\n",
       "      <td>N</td>\n",
       "    </tr>\n",
       "    <tr>\n",
       "      <th>7</th>\n",
       "      <td>9430599586</td>\n",
       "      <td>2.87</td>\n",
       "      <td>0.6</td>\n",
       "      <td>Neg</td>\n",
       "      <td>Neg</td>\n",
       "      <td>-2.27</td>\n",
       "      <td>N</td>\n",
       "      <td>N</td>\n",
       "    </tr>\n",
       "    <tr>\n",
       "      <th>8</th>\n",
       "      <td>9430600502</td>\n",
       "      <td>23.83</td>\n",
       "      <td>21.3</td>\n",
       "      <td>Pos</td>\n",
       "      <td>Pos</td>\n",
       "      <td>-2.53</td>\n",
       "      <td>P</td>\n",
       "      <td>P</td>\n",
       "    </tr>\n",
       "    <tr>\n",
       "      <th>9</th>\n",
       "      <td>9430600789</td>\n",
       "      <td>6.98</td>\n",
       "      <td>7.3</td>\n",
       "      <td>Pos</td>\n",
       "      <td>Pos</td>\n",
       "      <td>0.32</td>\n",
       "      <td>P</td>\n",
       "      <td>P</td>\n",
       "    </tr>\n",
       "    <tr>\n",
       "      <th>10</th>\n",
       "      <td>9430089154</td>\n",
       "      <td>5.51</td>\n",
       "      <td>4.2</td>\n",
       "      <td>Pos</td>\n",
       "      <td>Pos</td>\n",
       "      <td>-1.31</td>\n",
       "      <td>P</td>\n",
       "      <td>P</td>\n",
       "    </tr>\n",
       "    <tr>\n",
       "      <th>11</th>\n",
       "      <td>9430598588</td>\n",
       "      <td>1.98</td>\n",
       "      <td>0.7</td>\n",
       "      <td>Neg</td>\n",
       "      <td>Neg</td>\n",
       "      <td>-1.28</td>\n",
       "      <td>N</td>\n",
       "      <td>N</td>\n",
       "    </tr>\n",
       "  </tbody>\n",
       "</table>\n",
       "</div>"
      ],
      "text/plain": [
       "      campione  valore_cap  valore_rut cap_PN rut_PN  bias cap_PND rut_PND\n",
       "0   9430598753        1.77         0.4    Neg    Neg -1.37       N       N\n",
       "1   9430598217        2.46         0.3    Neg    Neg -2.16       N       N\n",
       "2   9430598216        2.26         0.8    Neg    Neg -1.46       N       N\n",
       "3   9430598758        2.57         2.2    Neg    Pos -0.37       N       P\n",
       "4   9430598331        2.29         0.4    Neg    Neg -1.89       N       N\n",
       "5   9430599124        1.80         0.6    Neg    Neg -1.20       N       N\n",
       "6   9430599592        2.24         0.5    Neg    Neg -1.74       N       N\n",
       "7   9430599586        2.87         0.6    Neg    Neg -2.27       N       N\n",
       "8   9430600502       23.83        21.3    Pos    Pos -2.53       P       P\n",
       "9   9430600789        6.98         7.3    Pos    Pos  0.32       P       P\n",
       "10  9430089154        5.51         4.2    Pos    Pos -1.31       P       P\n",
       "11  9430598588        1.98         0.7    Neg    Neg -1.28       N       N"
      ]
     },
     "execution_count": 63,
     "metadata": {},
     "output_type": "execute_result"
    }
   ],
   "source": [
    "database.head(12)"
   ]
  },
  {
   "cell_type": "code",
   "execution_count": 64,
   "metadata": {
    "collapsed": false
   },
   "outputs": [
    {
     "data": {
      "text/html": [
       "<div>\n",
       "<table border=\"1\" class=\"dataframe\">\n",
       "  <thead>\n",
       "    <tr style=\"text-align: right;\">\n",
       "      <th>rut_PND</th>\n",
       "      <th>D</th>\n",
       "      <th>N</th>\n",
       "      <th>P</th>\n",
       "    </tr>\n",
       "    <tr>\n",
       "      <th>cap_PND</th>\n",
       "      <th></th>\n",
       "      <th></th>\n",
       "      <th></th>\n",
       "    </tr>\n",
       "  </thead>\n",
       "  <tbody>\n",
       "    <tr>\n",
       "      <th>D</th>\n",
       "      <td>1</td>\n",
       "      <td>13</td>\n",
       "      <td>0</td>\n",
       "    </tr>\n",
       "    <tr>\n",
       "      <th>N</th>\n",
       "      <td>3</td>\n",
       "      <td>32</td>\n",
       "      <td>2</td>\n",
       "    </tr>\n",
       "    <tr>\n",
       "      <th>P</th>\n",
       "      <td>3</td>\n",
       "      <td>5</td>\n",
       "      <td>15</td>\n",
       "    </tr>\n",
       "  </tbody>\n",
       "</table>\n",
       "</div>"
      ],
      "text/plain": [
       "rut_PND  D   N   P\n",
       "cap_PND           \n",
       "D        1  13   0\n",
       "N        3  32   2\n",
       "P        3   5  15"
      ]
     },
     "execution_count": 64,
     "metadata": {},
     "output_type": "execute_result"
    }
   ],
   "source": [
    "pd.crosstab(database.cap_PND,database.rut_PND)"
   ]
  },
  {
   "cell_type": "code",
   "execution_count": 65,
   "metadata": {
    "collapsed": false
   },
   "outputs": [
    {
     "data": {
      "text/plain": [
       "<matplotlib.text.Text at 0x135d9330>"
      ]
     },
     "execution_count": 65,
     "metadata": {},
     "output_type": "execute_result"
    },
    {
     "data": {
      "image/png": "[encoded data removed]",
      "text/plain": [
       "<matplotlib.figure.Figure at 0x135c6250>"
      ]
     },
     "metadata": {},
     "output_type": "display_data"
    }
   ],
   "source": [
    "ax=pd.crosstab(database.cap_PND,database.rut_PND).plot(kind='bar',stacked=True, )\n",
    "ax.legend(['Bra Dub','Bra Neg','Bra Pos'])\n",
    "ax.set_xlabel(CAP)"
   ]
  },
  {
   "cell_type": "markdown",
   "metadata": {},
   "source": [
    "**Creo una colonna che assume valore positivo solo nel caso in cui i due metodi abbiano dato valore opposto N con P o vieceversa)**"
   ]
  },
  {
   "cell_type": "code",
   "execution_count": 66,
   "metadata": {
    "collapsed": false
   },
   "outputs": [
    {
     "data": {
      "text/html": [
       "<div>\n",
       "<table border=\"1\" class=\"dataframe\">\n",
       "  <thead>\n",
       "    <tr style=\"text-align: right;\">\n",
       "      <th></th>\n",
       "      <th>campione</th>\n",
       "      <th>valore_cap</th>\n",
       "      <th>valore_rut</th>\n",
       "      <th>cap_PN</th>\n",
       "      <th>rut_PN</th>\n",
       "      <th>bias</th>\n",
       "      <th>cap_PND</th>\n",
       "      <th>rut_PND</th>\n",
       "      <th>mismatch</th>\n",
       "    </tr>\n",
       "  </thead>\n",
       "  <tbody>\n",
       "    <tr>\n",
       "      <th>0</th>\n",
       "      <td>9430598753</td>\n",
       "      <td>1.77</td>\n",
       "      <td>0.4</td>\n",
       "      <td>Neg</td>\n",
       "      <td>Neg</td>\n",
       "      <td>-1.37</td>\n",
       "      <td>N</td>\n",
       "      <td>N</td>\n",
       "      <td>0</td>\n",
       "    </tr>\n",
       "    <tr>\n",
       "      <th>1</th>\n",
       "      <td>9430598217</td>\n",
       "      <td>2.46</td>\n",
       "      <td>0.3</td>\n",
       "      <td>Neg</td>\n",
       "      <td>Neg</td>\n",
       "      <td>-2.16</td>\n",
       "      <td>N</td>\n",
       "      <td>N</td>\n",
       "      <td>0</td>\n",
       "    </tr>\n",
       "    <tr>\n",
       "      <th>2</th>\n",
       "      <td>9430598216</td>\n",
       "      <td>2.26</td>\n",
       "      <td>0.8</td>\n",
       "      <td>Neg</td>\n",
       "      <td>Neg</td>\n",
       "      <td>-1.46</td>\n",
       "      <td>N</td>\n",
       "      <td>N</td>\n",
       "      <td>0</td>\n",
       "    </tr>\n",
       "    <tr>\n",
       "      <th>3</th>\n",
       "      <td>9430598758</td>\n",
       "      <td>2.57</td>\n",
       "      <td>2.2</td>\n",
       "      <td>Neg</td>\n",
       "      <td>Pos</td>\n",
       "      <td>-0.37</td>\n",
       "      <td>N</td>\n",
       "      <td>P</td>\n",
       "      <td>1</td>\n",
       "    </tr>\n",
       "    <tr>\n",
       "      <th>4</th>\n",
       "      <td>9430598331</td>\n",
       "      <td>2.29</td>\n",
       "      <td>0.4</td>\n",
       "      <td>Neg</td>\n",
       "      <td>Neg</td>\n",
       "      <td>-1.89</td>\n",
       "      <td>N</td>\n",
       "      <td>N</td>\n",
       "      <td>0</td>\n",
       "    </tr>\n",
       "    <tr>\n",
       "      <th>5</th>\n",
       "      <td>9430599124</td>\n",
       "      <td>1.80</td>\n",
       "      <td>0.6</td>\n",
       "      <td>Neg</td>\n",
       "      <td>Neg</td>\n",
       "      <td>-1.20</td>\n",
       "      <td>N</td>\n",
       "      <td>N</td>\n",
       "      <td>0</td>\n",
       "    </tr>\n",
       "    <tr>\n",
       "      <th>6</th>\n",
       "      <td>9430599592</td>\n",
       "      <td>2.24</td>\n",
       "      <td>0.5</td>\n",
       "      <td>Neg</td>\n",
       "      <td>Neg</td>\n",
       "      <td>-1.74</td>\n",
       "      <td>N</td>\n",
       "      <td>N</td>\n",
       "      <td>0</td>\n",
       "    </tr>\n",
       "    <tr>\n",
       "      <th>7</th>\n",
       "      <td>9430599586</td>\n",
       "      <td>2.87</td>\n",
       "      <td>0.6</td>\n",
       "      <td>Neg</td>\n",
       "      <td>Neg</td>\n",
       "      <td>-2.27</td>\n",
       "      <td>N</td>\n",
       "      <td>N</td>\n",
       "      <td>0</td>\n",
       "    </tr>\n",
       "    <tr>\n",
       "      <th>8</th>\n",
       "      <td>9430600502</td>\n",
       "      <td>23.83</td>\n",
       "      <td>21.3</td>\n",
       "      <td>Pos</td>\n",
       "      <td>Pos</td>\n",
       "      <td>-2.53</td>\n",
       "      <td>P</td>\n",
       "      <td>P</td>\n",
       "      <td>0</td>\n",
       "    </tr>\n",
       "    <tr>\n",
       "      <th>9</th>\n",
       "      <td>9430600789</td>\n",
       "      <td>6.98</td>\n",
       "      <td>7.3</td>\n",
       "      <td>Pos</td>\n",
       "      <td>Pos</td>\n",
       "      <td>0.32</td>\n",
       "      <td>P</td>\n",
       "      <td>P</td>\n",
       "      <td>0</td>\n",
       "    </tr>\n",
       "    <tr>\n",
       "      <th>10</th>\n",
       "      <td>9430089154</td>\n",
       "      <td>5.51</td>\n",
       "      <td>4.2</td>\n",
       "      <td>Pos</td>\n",
       "      <td>Pos</td>\n",
       "      <td>-1.31</td>\n",
       "      <td>P</td>\n",
       "      <td>P</td>\n",
       "      <td>0</td>\n",
       "    </tr>\n",
       "    <tr>\n",
       "      <th>11</th>\n",
       "      <td>9430598588</td>\n",
       "      <td>1.98</td>\n",
       "      <td>0.7</td>\n",
       "      <td>Neg</td>\n",
       "      <td>Neg</td>\n",
       "      <td>-1.28</td>\n",
       "      <td>N</td>\n",
       "      <td>N</td>\n",
       "      <td>0</td>\n",
       "    </tr>\n",
       "    <tr>\n",
       "      <th>12</th>\n",
       "      <td>9430598843</td>\n",
       "      <td>2.76</td>\n",
       "      <td>1.7</td>\n",
       "      <td>Neg</td>\n",
       "      <td>Pos</td>\n",
       "      <td>-1.06</td>\n",
       "      <td>N</td>\n",
       "      <td>P</td>\n",
       "      <td>1</td>\n",
       "    </tr>\n",
       "    <tr>\n",
       "      <th>13</th>\n",
       "      <td>9430598608</td>\n",
       "      <td>18.24</td>\n",
       "      <td>30.0</td>\n",
       "      <td>Pos</td>\n",
       "      <td>Pos</td>\n",
       "      <td>11.76</td>\n",
       "      <td>P</td>\n",
       "      <td>P</td>\n",
       "      <td>0</td>\n",
       "    </tr>\n",
       "    <tr>\n",
       "      <th>14</th>\n",
       "      <td>9430598139</td>\n",
       "      <td>2.49</td>\n",
       "      <td>1.0</td>\n",
       "      <td>Neg</td>\n",
       "      <td>Pos</td>\n",
       "      <td>-1.49</td>\n",
       "      <td>N</td>\n",
       "      <td>D</td>\n",
       "      <td>0</td>\n",
       "    </tr>\n",
       "    <tr>\n",
       "      <th>15</th>\n",
       "      <td>9430599313</td>\n",
       "      <td>4.24</td>\n",
       "      <td>6.3</td>\n",
       "      <td>Pos</td>\n",
       "      <td>Pos</td>\n",
       "      <td>2.06</td>\n",
       "      <td>P</td>\n",
       "      <td>P</td>\n",
       "      <td>0</td>\n",
       "    </tr>\n",
       "    <tr>\n",
       "      <th>16</th>\n",
       "      <td>9430598183</td>\n",
       "      <td>2.26</td>\n",
       "      <td>0.3</td>\n",
       "      <td>Neg</td>\n",
       "      <td>Neg</td>\n",
       "      <td>-1.96</td>\n",
       "      <td>N</td>\n",
       "      <td>N</td>\n",
       "      <td>0</td>\n",
       "    </tr>\n",
       "    <tr>\n",
       "      <th>17</th>\n",
       "      <td>9430600433</td>\n",
       "      <td>3.28</td>\n",
       "      <td>0.1</td>\n",
       "      <td>Pos</td>\n",
       "      <td>Neg</td>\n",
       "      <td>-3.18</td>\n",
       "      <td>D</td>\n",
       "      <td>N</td>\n",
       "      <td>0</td>\n",
       "    </tr>\n",
       "    <tr>\n",
       "      <th>18</th>\n",
       "      <td>9430599237</td>\n",
       "      <td>4.46</td>\n",
       "      <td>4.9</td>\n",
       "      <td>Pos</td>\n",
       "      <td>Pos</td>\n",
       "      <td>0.44</td>\n",
       "      <td>P</td>\n",
       "      <td>P</td>\n",
       "      <td>0</td>\n",
       "    </tr>\n",
       "    <tr>\n",
       "      <th>19</th>\n",
       "      <td>9430600330</td>\n",
       "      <td>3.85</td>\n",
       "      <td>3.4</td>\n",
       "      <td>Pos</td>\n",
       "      <td>Pos</td>\n",
       "      <td>-0.45</td>\n",
       "      <td>P</td>\n",
       "      <td>P</td>\n",
       "      <td>0</td>\n",
       "    </tr>\n",
       "  </tbody>\n",
       "</table>\n",
       "</div>"
      ],
      "text/plain": [
       "      campione  valore_cap  valore_rut cap_PN rut_PN   bias cap_PND rut_PND  \\\n",
       "0   9430598753        1.77         0.4    Neg    Neg  -1.37       N       N   \n",
       "1   9430598217        2.46         0.3    Neg    Neg  -2.16       N       N   \n",
       "2   9430598216        2.26         0.8    Neg    Neg  -1.46       N       N   \n",
       "3   9430598758        2.57         2.2    Neg    Pos  -0.37       N       P   \n",
       "4   9430598331        2.29         0.4    Neg    Neg  -1.89       N       N   \n",
       "5   9430599124        1.80         0.6    Neg    Neg  -1.20       N       N   \n",
       "6   9430599592        2.24         0.5    Neg    Neg  -1.74       N       N   \n",
       "7   9430599586        2.87         0.6    Neg    Neg  -2.27       N       N   \n",
       "8   9430600502       23.83        21.3    Pos    Pos  -2.53       P       P   \n",
       "9   9430600789        6.98         7.3    Pos    Pos   0.32       P       P   \n",
       "10  9430089154        5.51         4.2    Pos    Pos  -1.31       P       P   \n",
       "11  9430598588        1.98         0.7    Neg    Neg  -1.28       N       N   \n",
       "12  9430598843        2.76         1.7    Neg    Pos  -1.06       N       P   \n",
       "13  9430598608       18.24        30.0    Pos    Pos  11.76       P       P   \n",
       "14  9430598139        2.49         1.0    Neg    Pos  -1.49       N       D   \n",
       "15  9430599313        4.24         6.3    Pos    Pos   2.06       P       P   \n",
       "16  9430598183        2.26         0.3    Neg    Neg  -1.96       N       N   \n",
       "17  9430600433        3.28         0.1    Pos    Neg  -3.18       D       N   \n",
       "18  9430599237        4.46         4.9    Pos    Pos   0.44       P       P   \n",
       "19  9430600330        3.85         3.4    Pos    Pos  -0.45       P       P   \n",
       "\n",
       "    mismatch  \n",
       "0          0  \n",
       "1          0  \n",
       "2          0  \n",
       "3          1  \n",
       "4          0  \n",
       "5          0  \n",
       "6          0  \n",
       "7          0  \n",
       "8          0  \n",
       "9          0  \n",
       "10         0  \n",
       "11         0  \n",
       "12         1  \n",
       "13         0  \n",
       "14         0  \n",
       "15         0  \n",
       "16         0  \n",
       "17         0  \n",
       "18         0  \n",
       "19         0  "
      ]
     },
     "execution_count": 66,
     "metadata": {},
     "output_type": "execute_result"
    }
   ],
   "source": [
    "def no_match(x):\n",
    "    if (x['cap_PND']==x['rut_PND']or x['cap_PND']=='D' or x['rut_PND']=='D'):\n",
    "        return 0\n",
    "    else:\n",
    "        return 1\n",
    "        \n",
    "\n",
    "#df.apply(lambda row: my_test(row['a'], row['c']), axis=1)\n",
    "\n",
    "database['mismatch']=database.apply(no_match,axis=1)\n",
    "#database['valore_cap'].apply(discret_cap)\n",
    "per_disc=round(100*database['mismatch'].sum()/database['mismatch'].count(),2)\n",
    "database.head(20)\n",
    "\n"
   ]
  },
  {
   "cell_type": "code",
   "execution_count": 73,
   "metadata": {
    "collapsed": false
   },
   "outputs": [
    {
     "name": "stdout",
     "output_type": "stream",
     "text": [
      "classificazioni deiverse: 7 su un totale di 74\n",
      " pecentuale di discordanza e dello 9.46%\n"
     ]
    }
   ],
   "source": [
    "print(\"classificazioni deiverse: {} su un totale di {}\".format(database['mismatch'].sum(),database['mismatch'].count()))\n",
    "print(\" pecentuale di discordanza e dello {}%\".format(per_disc))"
   ]
  },
  {
   "cell_type": "code",
   "execution_count": null,
   "metadata": {
    "collapsed": false
   },
   "outputs": [],
   "source": []
  }
 ],
 "metadata": {
  "kernelspec": {
   "display_name": "Python 2",
   "language": "python",
   "name": "python2"
  },
  "language_info": {
   "codemirror_mode": {
    "name": "ipython",
    "version": 2
   },
   "file_extension": ".py",
   "mimetype": "text/x-python",
   "name": "python",
   "nbconvert_exporter": "python",
   "pygments_lexer": "ipython2",
   "version": "2.7.11"
  }
 },
 "nbformat": 4,
 "nbformat_minor": 0
}

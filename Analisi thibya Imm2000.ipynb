{
 "cells": [
  {
   "cell_type": "markdown",
   "metadata": {},
   "source": [
    "<h2>Analisi comparativa dei metodi di dosaggio degli anticorpi anti recettore del TSH</h2>\n",
    "<h3>Metodo Routine:<h3>\n",
    "<ul>\n",
    "<li><small>Brahms Trak Human con metodica LIA</small> </li>\n",
    "<li>Metodo Siemens XPi TSI Assay chemiluminescenza Immulite 2000</li>\n",
    "</ul>\n",
    "<h3>Metodo di comparazione Thermophisher: anti TSH-R Elia su Immunocap 250</h3>"
   ]
  },
  {
   "cell_type": "markdown",
   "metadata": {},
   "source": [
    "Analisi dei dati effettuata con la suite CONTINUUM ANALITICS https://www.continuum.io/\n",
    "\n",
    "basata sui seguenti moduli python:\n",
    "<ul>\n",
    "<li>Pandas: per la gestione dei dati e le analisi di base </li>\n",
    "<li> Matplotlib: per i grafici di base</li>\n",
    "<li>Seaborn per grafici avanzati</li>\n",
    "<li>Statmodels e scipy per le analisi avanzate</li>\n",
    "</ul>\n",
    "\n",
    "** tutti i software utilizzati sono open source**"
   ]
  },
  {
   "cell_type": "code",
   "execution_count": 1,
   "metadata": {
    "collapsed": true
   },
   "outputs": [],
   "source": [
    "%matplotlib inline\n",
    "#importo le librerie\n",
    "import pandas as pd\n",
    "import os\n",
    "from __future__ import print_function,division\n",
    "import numpy as np\n",
    "import seaborn as sns\n",
    "os.environ[\"NLS_LANG\"] = \"ITALIAN_ITALY.UTF8\""
   ]
  },
  {
   "cell_type": "markdown",
   "metadata": {},
   "source": [
    "<h4>Importazione del file con i dati </h4>"
   ]
  },
  {
   "cell_type": "code",
   "execution_count": 2,
   "metadata": {
    "collapsed": false
   },
   "outputs": [
    {
     "data": {
      "text/html": [
       "<div>\n",
       "<table border=\"1\" class=\"dataframe\">\n",
       "  <thead>\n",
       "    <tr style=\"text-align: right;\">\n",
       "      <th></th>\n",
       "      <th>campione</th>\n",
       "      <th>valore_cap</th>\n",
       "      <th>valore_rut</th>\n",
       "    </tr>\n",
       "  </thead>\n",
       "  <tbody>\n",
       "    <tr>\n",
       "      <th>65</th>\n",
       "      <td>9430603566</td>\n",
       "      <td>3.96</td>\n",
       "      <td>0.36</td>\n",
       "    </tr>\n",
       "    <tr>\n",
       "      <th>66</th>\n",
       "      <td>9430092145</td>\n",
       "      <td>2.82</td>\n",
       "      <td>0.10</td>\n",
       "    </tr>\n",
       "    <tr>\n",
       "      <th>67</th>\n",
       "      <td>9430092403</td>\n",
       "      <td>2.58</td>\n",
       "      <td>0.10</td>\n",
       "    </tr>\n",
       "    <tr>\n",
       "      <th>68</th>\n",
       "      <td>9430603993</td>\n",
       "      <td>2.53</td>\n",
       "      <td>0.10</td>\n",
       "    </tr>\n",
       "    <tr>\n",
       "      <th>69</th>\n",
       "      <td>9430604501</td>\n",
       "      <td>2.99</td>\n",
       "      <td>0.32</td>\n",
       "    </tr>\n",
       "    <tr>\n",
       "      <th>70</th>\n",
       "      <td>9430092760</td>\n",
       "      <td>3.00</td>\n",
       "      <td>0.10</td>\n",
       "    </tr>\n",
       "  </tbody>\n",
       "</table>\n",
       "</div>"
      ],
      "text/plain": [
       "      campione  valore_cap  valore_rut\n",
       "65  9430603566        3.96        0.36\n",
       "66  9430092145        2.82        0.10\n",
       "67  9430092403        2.58        0.10\n",
       "68  9430603993        2.53        0.10\n",
       "69  9430604501        2.99        0.32\n",
       "70  9430092760        3.00        0.10"
      ]
     },
     "execution_count": 2,
     "metadata": {},
     "output_type": "execute_result"
    }
   ],
   "source": [
    "#importo il file con i dati\n",
    "path=r\"D:\\d\\05 Lavscien\\autoimmunita\\corr_thibya\\compar_thibya_immulite.csv\"\n",
    "database=pd.read_csv(path,sep=';',usecols=[1, 2, 3,4,5])#colonne da utilizzare\n",
    "database['valore_cap']=database['valore_cap'].apply(lambda x: round(x,2))\n",
    "database.drop(['codificato','accettazione'],axis=1,inplace=True)\n",
    "database.tail(6)\n"
   ]
  },
  {
   "cell_type": "code",
   "execution_count": 3,
   "metadata": {
    "collapsed": false
   },
   "outputs": [
    {
     "data": {
      "text/html": [
       "<div>\n",
       "<table border=\"1\" class=\"dataframe\">\n",
       "  <thead>\n",
       "    <tr style=\"text-align: right;\">\n",
       "      <th></th>\n",
       "      <th>campione</th>\n",
       "      <th>valore_cap</th>\n",
       "      <th>valore_rut</th>\n",
       "    </tr>\n",
       "  </thead>\n",
       "  <tbody>\n",
       "    <tr>\n",
       "      <th>count</th>\n",
       "      <td>7.100000e+01</td>\n",
       "      <td>71.000000</td>\n",
       "      <td>71.000000</td>\n",
       "    </tr>\n",
       "    <tr>\n",
       "      <th>mean</th>\n",
       "      <td>9.430525e+09</td>\n",
       "      <td>5.778873</td>\n",
       "      <td>4.835915</td>\n",
       "    </tr>\n",
       "    <tr>\n",
       "      <th>std</th>\n",
       "      <td>1.863832e+05</td>\n",
       "      <td>12.625289</td>\n",
       "      <td>25.163154</td>\n",
       "    </tr>\n",
       "    <tr>\n",
       "      <th>min</th>\n",
       "      <td>9.430092e+09</td>\n",
       "      <td>1.920000</td>\n",
       "      <td>0.100000</td>\n",
       "    </tr>\n",
       "    <tr>\n",
       "      <th>25%</th>\n",
       "      <td>9.430603e+09</td>\n",
       "      <td>2.400000</td>\n",
       "      <td>0.100000</td>\n",
       "    </tr>\n",
       "    <tr>\n",
       "      <th>50%</th>\n",
       "      <td>9.430604e+09</td>\n",
       "      <td>2.710000</td>\n",
       "      <td>0.100000</td>\n",
       "    </tr>\n",
       "    <tr>\n",
       "      <th>75%</th>\n",
       "      <td>9.430605e+09</td>\n",
       "      <td>3.635000</td>\n",
       "      <td>0.925000</td>\n",
       "    </tr>\n",
       "    <tr>\n",
       "      <th>max</th>\n",
       "      <td>9.430606e+09</td>\n",
       "      <td>96.440000</td>\n",
       "      <td>206.000000</td>\n",
       "    </tr>\n",
       "  </tbody>\n",
       "</table>\n",
       "</div>"
      ],
      "text/plain": [
       "           campione  valore_cap  valore_rut\n",
       "count  7.100000e+01   71.000000   71.000000\n",
       "mean   9.430525e+09    5.778873    4.835915\n",
       "std    1.863832e+05   12.625289   25.163154\n",
       "min    9.430092e+09    1.920000    0.100000\n",
       "25%    9.430603e+09    2.400000    0.100000\n",
       "50%    9.430604e+09    2.710000    0.100000\n",
       "75%    9.430605e+09    3.635000    0.925000\n",
       "max    9.430606e+09   96.440000  206.000000"
      ]
     },
     "execution_count": 3,
     "metadata": {},
     "output_type": "execute_result"
    }
   ],
   "source": [
    "database.describe()"
   ]
  },
  {
   "cell_type": "markdown",
   "metadata": {},
   "source": [
    "Varibili d'ambiete in comune"
   ]
  },
  {
   "cell_type": "code",
   "execution_count": 4,
   "metadata": {
    "collapsed": true
   },
   "outputs": [],
   "source": [
    "#variabili d'ambiente comuni\n",
    "cutoff_cap=2.9 #tre 2.9 r 3.3 dubbi\n",
    "#cutoff_cap=3.3\n",
    "#cutoff_rout=1 #brahms 1-1.5 dubbi\n",
    "cutoff_rout=0.55 #Siemens\n",
    "METODO_ROUTINE=\"Siemens Immulite 2000 Chemil.\"\n",
    "CAP=\"Thermo Fisher ELIA anti-TSH-R Cap250 \""
   ]
  },
  {
   "cell_type": "markdown",
   "metadata": {},
   "source": [
    "<h3>Aggiungo due colonne con pos neg in base al cut-off</h3>"
   ]
  },
  {
   "cell_type": "code",
   "execution_count": 5,
   "metadata": {
    "collapsed": false
   },
   "outputs": [
    {
     "data": {
      "text/html": [
       "<div>\n",
       "<table border=\"1\" class=\"dataframe\">\n",
       "  <thead>\n",
       "    <tr style=\"text-align: right;\">\n",
       "      <th></th>\n",
       "      <th>campione</th>\n",
       "      <th>valore_cap</th>\n",
       "      <th>valore_rut</th>\n",
       "      <th>cap_PN</th>\n",
       "      <th>rut_PN</th>\n",
       "    </tr>\n",
       "  </thead>\n",
       "  <tbody>\n",
       "    <tr>\n",
       "      <th>0</th>\n",
       "      <td>9430605329</td>\n",
       "      <td>2.28</td>\n",
       "      <td>0.10</td>\n",
       "      <td>False</td>\n",
       "      <td>False</td>\n",
       "    </tr>\n",
       "    <tr>\n",
       "      <th>1</th>\n",
       "      <td>9430604072</td>\n",
       "      <td>2.47</td>\n",
       "      <td>0.10</td>\n",
       "      <td>False</td>\n",
       "      <td>False</td>\n",
       "    </tr>\n",
       "    <tr>\n",
       "      <th>2</th>\n",
       "      <td>9430092879</td>\n",
       "      <td>3.95</td>\n",
       "      <td>0.41</td>\n",
       "      <td>True</td>\n",
       "      <td>False</td>\n",
       "    </tr>\n",
       "    <tr>\n",
       "      <th>3</th>\n",
       "      <td>9430605389</td>\n",
       "      <td>2.40</td>\n",
       "      <td>0.10</td>\n",
       "      <td>False</td>\n",
       "      <td>False</td>\n",
       "    </tr>\n",
       "    <tr>\n",
       "      <th>4</th>\n",
       "      <td>9430605280</td>\n",
       "      <td>3.65</td>\n",
       "      <td>2.96</td>\n",
       "      <td>True</td>\n",
       "      <td>True</td>\n",
       "    </tr>\n",
       "  </tbody>\n",
       "</table>\n",
       "</div>"
      ],
      "text/plain": [
       "     campione  valore_cap  valore_rut cap_PN rut_PN\n",
       "0  9430605329        2.28        0.10  False  False\n",
       "1  9430604072        2.47        0.10  False  False\n",
       "2  9430092879        3.95        0.41   True  False\n",
       "3  9430605389        2.40        0.10  False  False\n",
       "4  9430605280        3.65        2.96   True   True"
      ]
     },
     "execution_count": 5,
     "metadata": {},
     "output_type": "execute_result"
    }
   ],
   "source": [
    "\n",
    "\n",
    "database['cap_PN']=(database['valore_cap']>=cutoff_cap)\n",
    "database['rut_PN']=(database['valore_rut']>=cutoff_rout)\n",
    "database.head(5)"
   ]
  },
  {
   "cell_type": "code",
   "execution_count": 6,
   "metadata": {
    "collapsed": false
   },
   "outputs": [
    {
     "data": {
      "text/html": [
       "<div>\n",
       "<table border=\"1\" class=\"dataframe\">\n",
       "  <thead>\n",
       "    <tr style=\"text-align: right;\">\n",
       "      <th></th>\n",
       "      <th>campione</th>\n",
       "      <th>valore_cap</th>\n",
       "      <th>valore_rut</th>\n",
       "    </tr>\n",
       "  </thead>\n",
       "  <tbody>\n",
       "    <tr>\n",
       "      <th>count</th>\n",
       "      <td>7.100000e+01</td>\n",
       "      <td>71.000000</td>\n",
       "      <td>71.000000</td>\n",
       "    </tr>\n",
       "    <tr>\n",
       "      <th>mean</th>\n",
       "      <td>9.430525e+09</td>\n",
       "      <td>5.778873</td>\n",
       "      <td>4.835915</td>\n",
       "    </tr>\n",
       "    <tr>\n",
       "      <th>std</th>\n",
       "      <td>1.863832e+05</td>\n",
       "      <td>12.625289</td>\n",
       "      <td>25.163154</td>\n",
       "    </tr>\n",
       "    <tr>\n",
       "      <th>min</th>\n",
       "      <td>9.430092e+09</td>\n",
       "      <td>1.920000</td>\n",
       "      <td>0.100000</td>\n",
       "    </tr>\n",
       "    <tr>\n",
       "      <th>25%</th>\n",
       "      <td>9.430603e+09</td>\n",
       "      <td>2.400000</td>\n",
       "      <td>0.100000</td>\n",
       "    </tr>\n",
       "    <tr>\n",
       "      <th>50%</th>\n",
       "      <td>9.430604e+09</td>\n",
       "      <td>2.710000</td>\n",
       "      <td>0.100000</td>\n",
       "    </tr>\n",
       "    <tr>\n",
       "      <th>75%</th>\n",
       "      <td>9.430605e+09</td>\n",
       "      <td>3.635000</td>\n",
       "      <td>0.925000</td>\n",
       "    </tr>\n",
       "    <tr>\n",
       "      <th>max</th>\n",
       "      <td>9.430606e+09</td>\n",
       "      <td>96.440000</td>\n",
       "      <td>206.000000</td>\n",
       "    </tr>\n",
       "  </tbody>\n",
       "</table>\n",
       "</div>"
      ],
      "text/plain": [
       "           campione  valore_cap  valore_rut\n",
       "count  7.100000e+01   71.000000   71.000000\n",
       "mean   9.430525e+09    5.778873    4.835915\n",
       "std    1.863832e+05   12.625289   25.163154\n",
       "min    9.430092e+09    1.920000    0.100000\n",
       "25%    9.430603e+09    2.400000    0.100000\n",
       "50%    9.430604e+09    2.710000    0.100000\n",
       "75%    9.430605e+09    3.635000    0.925000\n",
       "max    9.430606e+09   96.440000  206.000000"
      ]
     },
     "execution_count": 6,
     "metadata": {},
     "output_type": "execute_result"
    }
   ],
   "source": [
    "database['cap_PN'].replace([True,False],['Pos','Neg'],inplace=True)\n",
    "database['rut_PN'].replace([True,False],['Pos','Neg'],inplace=True)\n",
    "database.describe()"
   ]
  },
  {
   "cell_type": "markdown",
   "metadata": {},
   "source": [
    "<h4>Calcolo la tabella delle frequenze</h4>\n",
    "<font color='red'> **modulo utilizzato scipy.stat** </font>  http://docs.scipy.org/doc/scipy/reference/stats.html"
   ]
  },
  {
   "cell_type": "code",
   "execution_count": 7,
   "metadata": {
    "collapsed": false
   },
   "outputs": [
    {
     "data": {
      "text/html": [
       "<div>\n",
       "<table border=\"1\" class=\"dataframe\">\n",
       "  <thead>\n",
       "    <tr style=\"text-align: right;\">\n",
       "      <th>rut_PN</th>\n",
       "      <th>Neg</th>\n",
       "      <th>Pos</th>\n",
       "    </tr>\n",
       "    <tr>\n",
       "      <th>cap_PN</th>\n",
       "      <th></th>\n",
       "      <th></th>\n",
       "    </tr>\n",
       "  </thead>\n",
       "  <tbody>\n",
       "    <tr>\n",
       "      <th>Neg</th>\n",
       "      <td>39</td>\n",
       "      <td>1</td>\n",
       "    </tr>\n",
       "    <tr>\n",
       "      <th>Pos</th>\n",
       "      <td>12</td>\n",
       "      <td>19</td>\n",
       "    </tr>\n",
       "  </tbody>\n",
       "</table>\n",
       "</div>"
      ],
      "text/plain": [
       "rut_PN  Neg  Pos\n",
       "cap_PN          \n",
       "Neg      39    1\n",
       "Pos      12   19"
      ]
     },
     "execution_count": 7,
     "metadata": {},
     "output_type": "execute_result"
    }
   ],
   "source": [
    "#sci.py moduli\n",
    "from scipy.stats import chi2_contingency, fisher_exact\n",
    "pd.crosstab(database.cap_PN,database.rut_PN)"
   ]
  },
  {
   "cell_type": "code",
   "execution_count": 8,
   "metadata": {
    "collapsed": false
   },
   "outputs": [
    {
     "data": {
      "text/plain": [
       "<matplotlib.text.Text at 0x8e25c50>"
      ]
     },
     "execution_count": 8,
     "metadata": {},
     "output_type": "execute_result"
    },
    {
     "data": {
      "image/png": "[encoded data removed]",
      "text/plain": [
       "<matplotlib.figure.Figure at 0x8e25150>"
      ]
     },
     "metadata": {},
     "output_type": "display_data"
    }
   ],
   "source": [
    "ax=pd.crosstab(database.cap_PN,database.rut_PN).plot(kind='bar',stacked=True, )\n",
    "ax.legend(['Neg','Pos'])\n",
    "ax.set_xlabel(CAP)"
   ]
  },
  {
   "cell_type": "markdown",
   "metadata": {},
   "source": [
    "<h4> Test chi quadrato</h4>"
   ]
  },
  {
   "cell_type": "code",
   "execution_count": 9,
   "metadata": {
    "collapsed": false
   },
   "outputs": [
    {
     "name": "stdout",
     "output_type": "stream",
     "text": [
      "valore di p:2.03680302295e-07\n"
     ]
    }
   ],
   "source": [
    "# test chi square\n",
    "chi2, pvalue, dof, ex = chi2_contingency(pd.crosstab(database.cap_PN,database.rut_PN))\n",
    "print ('valore di p:{}'.format(pvalue))"
   ]
  },
  {
   "cell_type": "markdown",
   "metadata": {},
   "source": [
    "<h4> Test esatto di Fisher</h4>"
   ]
  },
  {
   "cell_type": "code",
   "execution_count": 10,
   "metadata": {
    "collapsed": false
   },
   "outputs": [
    {
     "name": "stdout",
     "output_type": "stream",
     "text": [
      "valore di p:2.5422748322e-08\n"
     ]
    }
   ],
   "source": [
    "# test esatto di Fisher\n",
    "oddsratio, pvalue =fisher_exact(pd.crosstab(database.cap_PN,database.rut_PN))\n",
    "print ('valore di p:{}'.format(pvalue))"
   ]
  },
  {
   "cell_type": "markdown",
   "metadata": {},
   "source": [
    "<h3>test corretto per questo caso è il test di McNemar:</h3>\n",
    "**test non parametrico dati appaiati risposte nominali binarie**\n",
    "<h4> Test esatto McNemar (per la dipendenza delle variabili)</h4>\n",
    "<font color='red'> **modulo utilizzato statsmodels** </font>  http://statsmodels.sourceforge.net/stable/index.html"
   ]
  },
  {
   "cell_type": "code",
   "execution_count": 11,
   "metadata": {
    "collapsed": false
   },
   "outputs": [
    {
     "name": "stdout",
     "output_type": "stream",
     "text": [
      "valore di p:0.00341796875\n"
     ]
    }
   ],
   "source": [
    "from statsmodels.sandbox.stats.runs import mcnemar\n",
    "stat,p=mcnemar(pd.crosstab(database.cap_PN,database.rut_PN))\n",
    "print(\"valore di p:{}\".format(p))\n"
   ]
  },
  {
   "cell_type": "markdown",
   "metadata": {},
   "source": [
    "-"
   ]
  },
  {
   "cell_type": "markdown",
   "metadata": {},
   "source": [
    "<h2> Analisi della regressione</h2>"
   ]
  },
  {
   "cell_type": "code",
   "execution_count": 12,
   "metadata": {
    "collapsed": false
   },
   "outputs": [
    {
     "data": {
      "image/png": "[encoded data removed]",
      "text/plain": [
       "<matplotlib.figure.Figure at 0x908b870>"
      ]
     },
     "metadata": {},
     "output_type": "display_data"
    }
   ],
   "source": [
    "# grafico di dispersione \n",
    "import matplotlib.pyplot as plt\n",
    "fig = plt.figure()\n",
    "fig.suptitle('Scatterplot', fontsize=14, fontweight='bold')\n",
    "ax = fig.add_subplot(111)\n",
    "ax.set_xlabel(METODO_ROUTINE)\n",
    "ax.set_ylabel(CAP)\n",
    "ax.plot(database.valore_rut,database.valore_cap,'o')\n",
    "plt.show()"
   ]
  },
  {
   "cell_type": "markdown",
   "metadata": {
    "collapsed": false
   },
   "source": [
    "** eseguiamo ora lo studio di regressione con tre modelli diversi**\n",
    "\n",
    "<font color='red'>Moduli statmodels e scipy </font>"
   ]
  },
  {
   "cell_type": "code",
   "execution_count": 13,
   "metadata": {
    "collapsed": false
   },
   "outputs": [
    {
     "data": {
      "text/html": [
       "<table class=\"simpletable\">\n",
       "<caption>OLS Regression Results</caption>\n",
       "<tr>\n",
       "  <th>Dep. Variable:</th>       <td>valore_cap</td>    <th>  R-squared:         </th> <td>   0.859</td>\n",
       "</tr>\n",
       "<tr>\n",
       "  <th>Model:</th>                   <td>OLS</td>       <th>  Adj. R-squared:    </th> <td>   0.857</td>\n",
       "</tr>\n",
       "<tr>\n",
       "  <th>Method:</th>             <td>Least Squares</td>  <th>  F-statistic:       </th> <td>   419.7</td>\n",
       "</tr>\n",
       "<tr>\n",
       "  <th>Date:</th>             <td>Mon, 03 Oct 2016</td> <th>  Prob (F-statistic):</th> <td>4.81e-31</td>\n",
       "</tr>\n",
       "<tr>\n",
       "  <th>Time:</th>                 <td>08:36:48</td>     <th>  Log-Likelihood:    </th> <td> -210.78</td>\n",
       "</tr>\n",
       "<tr>\n",
       "  <th>No. Observations:</th>      <td>    71</td>      <th>  AIC:               </th> <td>   425.6</td>\n",
       "</tr>\n",
       "<tr>\n",
       "  <th>Df Residuals:</th>          <td>    69</td>      <th>  BIC:               </th> <td>   430.1</td>\n",
       "</tr>\n",
       "<tr>\n",
       "  <th>Df Model:</th>              <td>     1</td>      <th>                     </th>     <td> </td>   \n",
       "</tr>\n",
       "<tr>\n",
       "  <th>Covariance Type:</th>      <td>nonrobust</td>    <th>                     </th>     <td> </td>   \n",
       "</tr>\n",
       "</table>\n",
       "<table class=\"simpletable\">\n",
       "<tr>\n",
       "       <td></td>         <th>coef</th>     <th>std err</th>      <th>t</th>      <th>P>|t|</th>  <th>[0.025</th>    <th>0.975]</th>  \n",
       "</tr>\n",
       "<tr>\n",
       "  <th>const</th>      <td>    3.5303</td> <td>    0.578</td> <td>    6.112</td> <td> 0.000</td> <td>    2.378</td> <td>    4.683</td>\n",
       "</tr>\n",
       "<tr>\n",
       "  <th>valore_rut</th> <td>    0.4650</td> <td>    0.023</td> <td>   20.486</td> <td> 0.000</td> <td>    0.420</td> <td>    0.510</td>\n",
       "</tr>\n",
       "</table>\n",
       "<table class=\"simpletable\">\n",
       "<tr>\n",
       "  <th>Omnibus:</th>       <td>108.177</td> <th>  Durbin-Watson:     </th> <td>   2.069</td>\n",
       "</tr>\n",
       "<tr>\n",
       "  <th>Prob(Omnibus):</th> <td> 0.000</td>  <th>  Jarque-Bera (JB):  </th> <td>2104.747</td>\n",
       "</tr>\n",
       "<tr>\n",
       "  <th>Skew:</th>          <td> 4.972</td>  <th>  Prob(JB):          </th> <td>    0.00</td>\n",
       "</tr>\n",
       "<tr>\n",
       "  <th>Kurtosis:</th>      <td>27.751</td>  <th>  Cond. No.          </th> <td>    25.9</td>\n",
       "</tr>\n",
       "</table>"
      ],
      "text/plain": [
       "<class 'statsmodels.iolib.summary.Summary'>\n",
       "\"\"\"\n",
       "                            OLS Regression Results                            \n",
       "==============================================================================\n",
       "Dep. Variable:             valore_cap   R-squared:                       0.859\n",
       "Model:                            OLS   Adj. R-squared:                  0.857\n",
       "Method:                 Least Squares   F-statistic:                     419.7\n",
       "Date:                Mon, 03 Oct 2016   Prob (F-statistic):           4.81e-31\n",
       "Time:                        08:36:48   Log-Likelihood:                -210.78\n",
       "No. Observations:                  71   AIC:                             425.6\n",
       "Df Residuals:                      69   BIC:                             430.1\n",
       "Df Model:                           1                                         \n",
       "Covariance Type:            nonrobust                                         \n",
       "==============================================================================\n",
       "                 coef    std err          t      P>|t|      [0.025      0.975]\n",
       "------------------------------------------------------------------------------\n",
       "const          3.5303      0.578      6.112      0.000       2.378       4.683\n",
       "valore_rut     0.4650      0.023     20.486      0.000       0.420       0.510\n",
       "==============================================================================\n",
       "Omnibus:                      108.177   Durbin-Watson:                   2.069\n",
       "Prob(Omnibus):                  0.000   Jarque-Bera (JB):             2104.747\n",
       "Skew:                           4.972   Prob(JB):                         0.00\n",
       "Kurtosis:                      27.751   Cond. No.                         25.9\n",
       "==============================================================================\n",
       "\n",
       "Warnings:\n",
       "[1] Standard Errors assume that the covariance matrix of the errors is correctly specified.\n",
       "\"\"\""
      ]
     },
     "execution_count": 13,
     "metadata": {},
     "output_type": "execute_result"
    }
   ],
   "source": [
    "# con statmodel : regressione minimi quadrati\n",
    "##res_ols = sm.OLS(y, statsmodels.tools.add_constant(X)).fit() per vecchia versione\n",
    "import statsmodels.api as sm\n",
    "#sm.OLS(Y,X)\n",
    "X = sm.add_constant(database.valore_rut )\n",
    "modello_minquad=sm.OLS(database.valore_cap,X)\n",
    "regressione_minquad=modello_minquad.fit()\n",
    "regressione_minquad.summary()"
   ]
  },
  {
   "cell_type": "code",
   "execution_count": 14,
   "metadata": {
    "collapsed": false
   },
   "outputs": [
    {
     "data": {
      "text/html": [
       "<table class=\"simpletable\">\n",
       "<caption>Robust linear Model Regression Results</caption>\n",
       "<tr>\n",
       "  <th>Dep. Variable:</th>     <td>valore_cap</td>    <th>  No. Observations:  </th> <td>    71</td>\n",
       "</tr>\n",
       "<tr>\n",
       "  <th>Model:</th>                 <td>RLM</td>       <th>  Df Residuals:      </th> <td>    69</td>\n",
       "</tr>\n",
       "<tr>\n",
       "  <th>Method:</th>               <td>IRLS</td>       <th>  Df Model:          </th> <td>     1</td>\n",
       "</tr>\n",
       "<tr>\n",
       "  <th>Norm:</th>                <td>HuberT</td>      <th>                     </th>    <td> </td>  \n",
       "</tr>\n",
       "<tr>\n",
       "  <th>Scale Est.:</th>            <td>mad</td>       <th>                     </th>    <td> </td>  \n",
       "</tr>\n",
       "<tr>\n",
       "  <th>Cov Type:</th>              <td>H1</td>        <th>                     </th>    <td> </td>  \n",
       "</tr>\n",
       "<tr>\n",
       "  <th>Date:</th>           <td>Mon, 03 Oct 2016</td> <th>                     </th>    <td> </td>  \n",
       "</tr>\n",
       "<tr>\n",
       "  <th>Time:</th>               <td>08:36:48</td>     <th>                     </th>    <td> </td>  \n",
       "</tr>\n",
       "<tr>\n",
       "  <th>No. Iterations:</th>        <td>24</td>        <th>                     </th>    <td> </td>  \n",
       "</tr>\n",
       "</table>\n",
       "<table class=\"simpletable\">\n",
       "<tr>\n",
       "       <td></td>         <th>coef</th>     <th>std err</th>      <th>z</th>      <th>P>|z|</th>  <th>[0.025</th>    <th>0.975]</th>  \n",
       "</tr>\n",
       "<tr>\n",
       "  <th>const</th>      <td>    2.6624</td> <td>    0.071</td> <td>   37.645</td> <td> 0.000</td> <td>    2.524</td> <td>    2.801</td>\n",
       "</tr>\n",
       "<tr>\n",
       "  <th>valore_rut</th> <td>    0.4555</td> <td>    0.003</td> <td>  163.889</td> <td> 0.000</td> <td>    0.450</td> <td>    0.461</td>\n",
       "</tr>\n",
       "</table>"
      ],
      "text/plain": [
       "<class 'statsmodels.iolib.summary.Summary'>\n",
       "\"\"\"\n",
       "                    Robust linear Model Regression Results                    \n",
       "==============================================================================\n",
       "Dep. Variable:             valore_cap   No. Observations:                   71\n",
       "Model:                            RLM   Df Residuals:                       69\n",
       "Method:                          IRLS   Df Model:                            1\n",
       "Norm:                          HuberT                                         \n",
       "Scale Est.:                       mad                                         \n",
       "Cov Type:                          H1                                         \n",
       "Date:                Mon, 03 Oct 2016                                         \n",
       "Time:                        08:36:48                                         \n",
       "No. Iterations:                    24                                         \n",
       "==============================================================================\n",
       "                 coef    std err          z      P>|z|      [0.025      0.975]\n",
       "------------------------------------------------------------------------------\n",
       "const          2.6624      0.071     37.645      0.000       2.524       2.801\n",
       "valore_rut     0.4555      0.003    163.889      0.000       0.450       0.461\n",
       "==============================================================================\n",
       "\n",
       "If the model instance has been used for another fit with different fit\n",
       "parameters, then the fit options might not be the correct ones anymore .\n",
       "\"\"\""
      ]
     },
     "execution_count": 14,
     "metadata": {},
     "output_type": "execute_result"
    }
   ],
   "source": [
    "# con statmodel : regressione robusta (Robust Linear Model)\n",
    "X = sm.add_constant(database.valore_rut)\n",
    "modello=sm.RLM(database.valore_cap,X)\n",
    "regressione_robusta=modello.fit()\n",
    "regressione_robusta.summary()\n"
   ]
  },
  {
   "cell_type": "code",
   "execution_count": 15,
   "metadata": {
    "collapsed": false
   },
   "outputs": [
    {
     "data": {
      "text/plain": [
       "[(0, 250.0)]"
      ]
     },
     "execution_count": 15,
     "metadata": {},
     "output_type": "execute_result"
    },
    {
     "data": {
      "image/png": "[encoded data removed]",
      "text/plain": [
       "<matplotlib.figure.Figure at 0x12219d30>"
      ]
     },
     "metadata": {},
     "output_type": "display_data"
    }
   ],
   "source": [
    "#importo la librearia seborn per una migliore visualizzazione grafica\n",
    "\n",
    "sns.set(color_codes=True)\n",
    "\n",
    "ax = sns.regplot(x=database.valore_rut,y=database.valore_cap,  color=\"g\",robust=True)\n",
    "ax = sns.regplot(x=database.valore_rut,y=database.valore_cap,  color=\"b\")\n",
    "ax.set_title('Regressione lineare  OLS + RLM ')\n",
    "ax.set_xlabel(METODO_ROUTINE)\n",
    "ax.set_ylabel(CAP)\n",
    "ax.set(ylim=(0, None))\n",
    "ax.set(xlim=(0, None))"
   ]
  },
  {
   "cell_type": "code",
   "execution_count": 16,
   "metadata": {
    "collapsed": false
   },
   "outputs": [
    {
     "data": {
      "text/plain": [
       "[(0, 8)]"
      ]
     },
     "execution_count": 16,
     "metadata": {},
     "output_type": "execute_result"
    },
    {
     "data": {
      "image/png": "[encoded data removed]",
      "text/plain": [
       "<matplotlib.figure.Figure at 0x12227af0>"
      ]
     },
     "metadata": {},
     "output_type": "display_data"
    }
   ],
   "source": [
    "sns.set(color_codes=True)\n",
    "ax2 = sns.regplot(x=database.valore_rut,y=database.valore_cap,  color=\"g\",robust=True)\n",
    "ax2 = sns.regplot(x=database.valore_rut,y=database.valore_cap,  color=\"b\")\n",
    "ax2.set_title('Regressione lineare  OLS + RLM ')\n",
    "ax2.set_xlabel(METODO_ROUTINE)\n",
    "ax2.set_ylabel(CAP)\n",
    "ax2.set(ylim=(0, 20))\n",
    "ax2.set(xlim=(0, 8))"
   ]
  },
  {
   "cell_type": "code",
   "execution_count": 17,
   "metadata": {
    "collapsed": false
   },
   "outputs": [
    {
     "data": {
      "text/plain": [
       "<seaborn.axisgrid.JointGrid at 0x8db3af0>"
      ]
     },
     "execution_count": 17,
     "metadata": {},
     "output_type": "execute_result"
    },
    {
     "data": {
      "image/png": "[encoded data removed]",
      "text/plain": [
       "<matplotlib.figure.Figure at 0x8db39f0>"
      ]
     },
     "metadata": {},
     "output_type": "display_data"
    }
   ],
   "source": [
    "ax=sns.jointplot(x=database.valore_rut,y=database.valore_cap, kind=\"reg\");\n",
    "ax.set_axis_labels(METODO_ROUTINE,CAP)"
   ]
  },
  {
   "cell_type": "markdown",
   "metadata": {
    "collapsed": false
   },
   "source": [
    "** Ortogonal Distance Regression (Deming Regression)**"
   ]
  },
  {
   "cell_type": "code",
   "execution_count": 18,
   "metadata": {
    "collapsed": false
   },
   "outputs": [
    {
     "name": "stdout",
     "output_type": "stream",
     "text": [
      "Beta: [ 0.47889129  3.46299595]\n",
      "Beta Std Error: [ 0.022821    0.57925143]\n",
      "Beta Covariance: [[  2.78872179e-05  -1.34860019e-04]\n",
      " [ -1.34860019e-04   1.79667789e-02]]\n",
      "Residual Variance: 18.6751458743\n",
      "Inverse Condition #: 0.0398025613057\n",
      "Reason(s) for Halting:\n",
      "  Sum of squares convergence\n"
     ]
    },
    {
     "data": {
      "text/plain": [
       "<scipy.odr.odrpack.Output at 0x12994870>"
      ]
     },
     "execution_count": 18,
     "metadata": {},
     "output_type": "execute_result"
    }
   ],
   "source": [
    "# regressione ODR  (ortogonal distance regression Deming)\n",
    "import scipy.odr as odr\n",
    "#modello di fitting\n",
    "def funzione(B,x):\n",
    "    return B[0]*x+B[1]\n",
    "linear= odr.Model(funzione)\n",
    "variabili=odr.Data(database.valore_rut,database.valore_cap)\n",
    "regressione_ortogonale=odr.ODR(variabili,linear,beta0=[1., 2.])\n",
    "output=regressione_ortogonale.run()\n",
    "output.pprint()\n",
    "output"
   ]
  },
  {
   "cell_type": "markdown",
   "metadata": {},
   "source": [
    "<h4>Bias</h4>"
   ]
  },
  {
   "cell_type": "code",
   "execution_count": 19,
   "metadata": {
    "collapsed": false
   },
   "outputs": [
    {
     "data": {
      "text/html": [
       "<div>\n",
       "<table border=\"1\" class=\"dataframe\">\n",
       "  <thead>\n",
       "    <tr style=\"text-align: right;\">\n",
       "      <th></th>\n",
       "      <th>campione</th>\n",
       "      <th>valore_cap</th>\n",
       "      <th>valore_rut</th>\n",
       "      <th>cap_PN</th>\n",
       "      <th>rut_PN</th>\n",
       "      <th>bias</th>\n",
       "    </tr>\n",
       "  </thead>\n",
       "  <tbody>\n",
       "    <tr>\n",
       "      <th>0</th>\n",
       "      <td>9430605329</td>\n",
       "      <td>2.28</td>\n",
       "      <td>0.10</td>\n",
       "      <td>Neg</td>\n",
       "      <td>Neg</td>\n",
       "      <td>-2.18</td>\n",
       "    </tr>\n",
       "    <tr>\n",
       "      <th>1</th>\n",
       "      <td>9430604072</td>\n",
       "      <td>2.47</td>\n",
       "      <td>0.10</td>\n",
       "      <td>Neg</td>\n",
       "      <td>Neg</td>\n",
       "      <td>-2.37</td>\n",
       "    </tr>\n",
       "    <tr>\n",
       "      <th>2</th>\n",
       "      <td>9430092879</td>\n",
       "      <td>3.95</td>\n",
       "      <td>0.41</td>\n",
       "      <td>Pos</td>\n",
       "      <td>Neg</td>\n",
       "      <td>-3.54</td>\n",
       "    </tr>\n",
       "    <tr>\n",
       "      <th>3</th>\n",
       "      <td>9430605389</td>\n",
       "      <td>2.40</td>\n",
       "      <td>0.10</td>\n",
       "      <td>Neg</td>\n",
       "      <td>Neg</td>\n",
       "      <td>-2.30</td>\n",
       "    </tr>\n",
       "    <tr>\n",
       "      <th>4</th>\n",
       "      <td>9430605280</td>\n",
       "      <td>3.65</td>\n",
       "      <td>2.96</td>\n",
       "      <td>Pos</td>\n",
       "      <td>Pos</td>\n",
       "      <td>-0.69</td>\n",
       "    </tr>\n",
       "  </tbody>\n",
       "</table>\n",
       "</div>"
      ],
      "text/plain": [
       "     campione  valore_cap  valore_rut cap_PN rut_PN  bias\n",
       "0  9430605329        2.28        0.10    Neg    Neg -2.18\n",
       "1  9430604072        2.47        0.10    Neg    Neg -2.37\n",
       "2  9430092879        3.95        0.41    Pos    Neg -3.54\n",
       "3  9430605389        2.40        0.10    Neg    Neg -2.30\n",
       "4  9430605280        3.65        2.96    Pos    Pos -0.69"
      ]
     },
     "execution_count": 19,
     "metadata": {},
     "output_type": "execute_result"
    }
   ],
   "source": [
    "database_b=database\n",
    "database_b['bias']=database['valore_rut']-database['valore_cap']\n",
    "database_b.head()"
   ]
  },
  {
   "cell_type": "code",
   "execution_count": 20,
   "metadata": {
    "collapsed": false
   },
   "outputs": [
    {
     "data": {
      "text/plain": [
       "<matplotlib.axes._subplots.AxesSubplot at 0x12961090>"
      ]
     },
     "execution_count": 20,
     "metadata": {},
     "output_type": "execute_result"
    },
    {
     "data": {
      "image/png": "[encoded data removed]",
      "text/plain": [
       "<matplotlib.figure.Figure at 0x1294ab50>"
      ]
     },
     "metadata": {},
     "output_type": "display_data"
    }
   ],
   "source": [
    "sns.distplot(database_b.bias)"
   ]
  },
  {
   "cell_type": "code",
   "execution_count": 21,
   "metadata": {
    "collapsed": false
   },
   "outputs": [
    {
     "data": {
      "text/html": [
       "<div>\n",
       "<table border=\"1\" class=\"dataframe\">\n",
       "  <thead>\n",
       "    <tr style=\"text-align: right;\">\n",
       "      <th></th>\n",
       "      <th>campione</th>\n",
       "      <th>valore_cap</th>\n",
       "      <th>valore_rut</th>\n",
       "      <th>bias</th>\n",
       "    </tr>\n",
       "  </thead>\n",
       "  <tbody>\n",
       "    <tr>\n",
       "      <th>count</th>\n",
       "      <td>7.100000e+01</td>\n",
       "      <td>71.000000</td>\n",
       "      <td>71.000000</td>\n",
       "      <td>71.000000</td>\n",
       "    </tr>\n",
       "    <tr>\n",
       "      <th>mean</th>\n",
       "      <td>9.430525e+09</td>\n",
       "      <td>5.778873</td>\n",
       "      <td>4.835915</td>\n",
       "      <td>-0.942958</td>\n",
       "    </tr>\n",
       "    <tr>\n",
       "      <th>std</th>\n",
       "      <td>1.863832e+05</td>\n",
       "      <td>12.625289</td>\n",
       "      <td>25.163154</td>\n",
       "      <td>14.274561</td>\n",
       "    </tr>\n",
       "    <tr>\n",
       "      <th>min</th>\n",
       "      <td>9.430092e+09</td>\n",
       "      <td>1.920000</td>\n",
       "      <td>0.100000</td>\n",
       "      <td>-25.870000</td>\n",
       "    </tr>\n",
       "    <tr>\n",
       "      <th>25%</th>\n",
       "      <td>9.430603e+09</td>\n",
       "      <td>2.400000</td>\n",
       "      <td>0.100000</td>\n",
       "      <td>-2.700000</td>\n",
       "    </tr>\n",
       "    <tr>\n",
       "      <th>50%</th>\n",
       "      <td>9.430604e+09</td>\n",
       "      <td>2.710000</td>\n",
       "      <td>0.100000</td>\n",
       "      <td>-2.370000</td>\n",
       "    </tr>\n",
       "    <tr>\n",
       "      <th>75%</th>\n",
       "      <td>9.430605e+09</td>\n",
       "      <td>3.635000</td>\n",
       "      <td>0.925000</td>\n",
       "      <td>-2.095000</td>\n",
       "    </tr>\n",
       "    <tr>\n",
       "      <th>max</th>\n",
       "      <td>9.430606e+09</td>\n",
       "      <td>96.440000</td>\n",
       "      <td>206.000000</td>\n",
       "      <td>109.560000</td>\n",
       "    </tr>\n",
       "  </tbody>\n",
       "</table>\n",
       "</div>"
      ],
      "text/plain": [
       "           campione  valore_cap  valore_rut        bias\n",
       "count  7.100000e+01   71.000000   71.000000   71.000000\n",
       "mean   9.430525e+09    5.778873    4.835915   -0.942958\n",
       "std    1.863832e+05   12.625289   25.163154   14.274561\n",
       "min    9.430092e+09    1.920000    0.100000  -25.870000\n",
       "25%    9.430603e+09    2.400000    0.100000   -2.700000\n",
       "50%    9.430604e+09    2.710000    0.100000   -2.370000\n",
       "75%    9.430605e+09    3.635000    0.925000   -2.095000\n",
       "max    9.430606e+09   96.440000  206.000000  109.560000"
      ]
     },
     "execution_count": 21,
     "metadata": {},
     "output_type": "execute_result"
    }
   ],
   "source": [
    "database.describe()"
   ]
  },
  {
   "cell_type": "markdown",
   "metadata": {
    "collapsed": false
   },
   "source": [
    "Normalize data"
   ]
  },
  {
   "cell_type": "code",
   "execution_count": 22,
   "metadata": {
    "collapsed": false
   },
   "outputs": [
    {
     "data": {
      "text/plain": [
       "'from sklearn import preprocessing\\n\\nmin_max_scaler = preprocessing.MinMaxScaler()\\nx_scaled = min_max_scaler.fit_transform(x)\\n\\nnormalized = pd.DataFrame(database.valore_cap)\\nnormalized'"
      ]
     },
     "execution_count": 22,
     "metadata": {},
     "output_type": "execute_result"
    }
   ],
   "source": [
    "'''from sklearn import preprocessing\n",
    "\n",
    "min_max_scaler = preprocessing.MinMaxScaler()\n",
    "x_scaled = min_max_scaler.fit_transform(x)\n",
    "\n",
    "normalized = pd.DataFrame(database.valore_cap)\n",
    "normalized'''"
   ]
  },
  {
   "cell_type": "code",
   "execution_count": null,
   "metadata": {
    "collapsed": true
   },
   "outputs": [],
   "source": []
  }
 ],
 "metadata": {
  "kernelspec": {
   "display_name": "Python 2",
   "language": "python",
   "name": "python2"
  },
  "language_info": {
   "codemirror_mode": {
    "name": "ipython",
    "version": 2
   },
   "file_extension": ".py",
   "mimetype": "text/x-python",
   "name": "python",
   "nbconvert_exporter": "python",
   "pygments_lexer": "ipython2",
   "version": "2.7.11"
  }
 },
 "nbformat": 4,
 "nbformat_minor": 0
}
